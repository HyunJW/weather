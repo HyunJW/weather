{
 "cells": [
  {
   "cell_type": "code",
   "execution_count": 2,
   "id": "ddbf096b",
   "metadata": {},
   "outputs": [],
   "source": [
    "import time\n",
    "import pandas as pd\n",
    "from selenium import webdriver\n",
    "from selenium.webdriver.common.by import By\n",
    "from bs4 import BeautifulSoup"
   ]
  },
  {
   "cell_type": "code",
   "execution_count": 58,
   "id": "3b659580",
   "metadata": {},
   "outputs": [],
   "source": [
    "url = 'https://airkorea.or.kr/web/'\n",
    "driver = webdriver.Chrome('chromedriver.exe')\n",
    "driver.get(url)"
   ]
  },
  {
   "cell_type": "code",
   "execution_count": 59,
   "id": "0f72f7ae",
   "metadata": {},
   "outputs": [
    {
     "name": "stderr",
     "output_type": "stream",
     "text": [
      "C:\\Users\\user\\AppData\\Local\\Temp\\ipykernel_11016\\296760026.py:2: DeprecationWarning: use driver.switch_to.window instead\n",
      "  driver.switch_to_window(driver.window_handles[1])\n"
     ]
    }
   ],
   "source": [
    "#팝업닫기(팜업이 2개면 2번 실행)\n",
    "driver.switch_to_window(driver.window_handles[1])\n",
    "driver.find_element(By.ID, 'pop').click()"
   ]
  },
  {
   "cell_type": "code",
   "execution_count": 60,
   "id": "48aa5d77",
   "metadata": {},
   "outputs": [
    {
     "name": "stderr",
     "output_type": "stream",
     "text": [
      "C:\\Users\\user\\AppData\\Local\\Temp\\ipykernel_11016\\954089337.py:2: DeprecationWarning: use driver.switch_to.window instead\n",
      "  driver.switch_to_window(driver.window_handles[0])\n"
     ]
    }
   ],
   "source": [
    "#인터넷창 전환\n",
    "driver.switch_to_window(driver.window_handles[0])\n",
    "\n",
    "#실시간 자료조회\n",
    "driver.find_element(By.XPATH, '//*[@id=\"topMenu\"]/li[2]/a').click()"
   ]
  },
  {
   "cell_type": "code",
   "execution_count": 61,
   "id": "42ea392a",
   "metadata": {},
   "outputs": [],
   "source": [
    "#시작일 시간선택\n",
    "driver.find_element(By.XPATH, '//*[@id=\"from_date_hour\"]/option[1]').click()\n",
    "\n",
    "#종료일 시간선택\n",
    "driver.find_element(By.XPATH, '//*[@id=\"to_date_hour\"]/option[1]').click()"
   ]
  },
  {
   "cell_type": "code",
   "execution_count": 62,
   "id": "b2d9fe8c",
   "metadata": {},
   "outputs": [],
   "source": [
    "#시작일 달력선택\n",
    "driver.find_element(By.CLASS_NAME, 'ui-datepicker-trigger').click()\n",
    "\n",
    "#17년도 선택\n",
    "driver.find_element(By.XPATH, '//*[@id=\"ui-datepicker-div\"]/div[1]/div/select[1]/option[2]').click()\n",
    "\n",
    "#12월 선택\n",
    "driver.find_element(By.XPATH, '//*[@id=\"ui-datepicker-div\"]/div[1]/div/select[2]/option[12]').click()\n",
    "\n",
    "#1일 선택\n",
    "driver.find_element(By.CLASS_NAME, 'ui-state-default').click()"
   ]
  },
  {
   "cell_type": "code",
   "execution_count": 63,
   "id": "a4b9c498",
   "metadata": {},
   "outputs": [],
   "source": [
    "#종료일 달력선택\n",
    "driver.find_element(By.CLASS_NAME, 'W100.MgL10.calendar.hasDatepicker').click()\n",
    "\n",
    "#18년도 선택\n",
    "driver.find_element(By.XPATH, '//*[@id=\"ui-datepicker-div\"]/div[1]/div/select[1]/option[3]').click()\n",
    "\n",
    "#1월 선택\n",
    "driver.find_element(By.XPATH, '//*[@id=\"ui-datepicker-div\"]/div[1]/div/select[2]/option[1]').click()\n",
    "\n",
    "#1일 선택\n",
    "driver.find_element(By.CLASS_NAME, 'ui-state-default').click()"
   ]
  },
  {
   "cell_type": "code",
   "execution_count": null,
   "id": "37697949",
   "metadata": {},
   "outputs": [],
   "source": [
    "#관측소별 주소정보 가져오기\n",
    "df_addr = pd.read_excel('../data/관측소주소.xlsx')"
   ]
  },
  {
   "cell_type": "code",
   "execution_count": 68,
   "id": "0463101a",
   "metadata": {},
   "outputs": [],
   "source": [
    "#주소검색창 열기\n",
    "driver.find_element(By.CLASS_NAME, 'W250').click()"
   ]
  },
  {
   "cell_type": "code",
   "execution_count": 69,
   "id": "0cf4f577",
   "metadata": {
    "scrolled": true
   },
   "outputs": [
    {
     "name": "stderr",
     "output_type": "stream",
     "text": [
      "C:\\Users\\user\\AppData\\Local\\Temp\\ipykernel_11016\\2810566663.py:2: DeprecationWarning: use driver.switch_to.window instead\n",
      "  driver.switch_to_window(driver.window_handles[1])\n"
     ]
    }
   ],
   "source": [
    "#인터넷창 전환(주소검색창)\n",
    "driver.switch_to_window(driver.window_handles[1])  \n",
    "# driver.get_window_position(driver.window_handles[1])\n",
    "time.sleep(1)\n",
    "\n",
    "#주소 입력\n",
    "driver.find_element(By.CLASS_NAME, 'popSearchInput').send_keys(df_addr['주소'][0])\n",
    "\n",
    "#검색\n",
    "driver.find_element(By.XPATH, '//*[@id=\"searchContentBox\"]/div[1]/fieldset/span/input[2]').click()\n",
    "\n",
    "#주소선택\n",
    "driver.find_element(By.ID, 'roadAddrDiv1').click()\n",
    "\n",
    "#주소입력\n",
    "driver.find_element(By.CLASS_NAME, 'btn-bl').click()"
   ]
  },
  {
   "cell_type": "code",
   "execution_count": 70,
   "id": "8ae28537",
   "metadata": {},
   "outputs": [
    {
     "name": "stderr",
     "output_type": "stream",
     "text": [
      "C:\\Users\\user\\AppData\\Local\\Temp\\ipykernel_11016\\2244936966.py:2: DeprecationWarning: use driver.switch_to.window instead\n",
      "  driver.switch_to_window(driver.window_handles[0])\n"
     ]
    }
   ],
   "source": [
    "#인터넷창 전환(자료조회)\n",
    "driver.switch_to_window(driver.window_handles[0])  \n",
    "\n",
    "#주소검색\n",
    "driver.find_element(By.XPATH, '//*[@id=\"cont_body\"]/form[2]/div[1]/a[2]').click()"
   ]
  },
  {
   "cell_type": "code",
   "execution_count": 71,
   "id": "26344529",
   "metadata": {},
   "outputs": [],
   "source": [
    "#측정자료가 0이면 다른 주소로 재검색\n",
    "soup = BeautifulSoup(driver.page_source, 'html.parser')\n",
    "addr = soup.select('.st_1.tr_hover > tbody > tr')\n",
    "count = 0\n",
    "while True:\n",
    "    lis = soup.select_one('.st_1.stoke > tbody > tr')\n",
    "    values = lis.select('td')\n",
    "\n",
    "    addr_num = 1\n",
    "\n",
    "    for i in range(1, len(values), 2):\n",
    "        if values[i].text == '-':\n",
    "            count += 1\n",
    "\n",
    "    if count == 6:\n",
    "        count = 0\n",
    "        driver.find_element(By.ID, f'stationCode{addr_num}').click()\n",
    "        driver.find_element(By.CLASS_NAME, 'search.MgL10').click()\n",
    "        time.sleep(2)\n",
    "\n",
    "        soup = BeautifulSoup(driver.page_source, 'html.parser')\n",
    "\n",
    "        addr_num += 1\n",
    "        \n",
    "        if addr_num == len(addr):\n",
    "            break\n",
    "    \n",
    "    else:\n",
    "        break"
   ]
  },
  {
   "cell_type": "code",
   "execution_count": 74,
   "id": "a94c8ace",
   "metadata": {},
   "outputs": [],
   "source": [
    "#엑셀 다운로드(17년12월1~18년1월1일)\n",
    "driver.find_element(By.CLASS_NAME, 'xls').click()"
   ]
  },
  {
   "cell_type": "code",
   "execution_count": 76,
   "id": "1a312535",
   "metadata": {},
   "outputs": [],
   "source": [
    "#18년1월1일~23년1월1일\n",
    "for year in range(3,8): #3: 18년, 7: 22년\n",
    "    end_year = year\n",
    "    for month in range(1,13):\n",
    "        #시작일 달력선택\n",
    "        driver.find_element(By.CLASS_NAME, 'ui-datepicker-trigger').click()\n",
    "        #년도 선택\n",
    "        driver.find_element(By.XPATH, f'//*[@id=\"ui-datepicker-div\"]/div[1]/div/select[1]/option[{year}]').click()\n",
    "        #월 선택\n",
    "        driver.find_element(By.XPATH, f'//*[@id=\"ui-datepicker-div\"]/div[1]/div/select[2]/option[{month}]').click()\n",
    "        #1일 선택\n",
    "        driver.find_element(By.CLASS_NAME, 'ui-state-default').click()\n",
    "        time.sleep(1)\n",
    "        \n",
    "        #종료일 연도와 달 지정\n",
    "        end_month = month + 1\n",
    "        if end_month == 13:\n",
    "            end_year = year + 1 \n",
    "            end_month = 1\n",
    "            \n",
    "        #종료일 달력선택\n",
    "        driver.find_element(By.CLASS_NAME, 'W100.MgL10.calendar.hasDatepicker').click()\n",
    "        #년도 선택\n",
    "        driver.find_element(By.XPATH, f'//*[@id=\"ui-datepicker-div\"]/div[1]/div/select[1]/option[{end_year}]').click()\n",
    "        #월 선택\n",
    "        driver.find_element(By.XPATH, f'//*[@id=\"ui-datepicker-div\"]/div[1]/div/select[2]/option[{end_month}]').click()\n",
    "        #일 선택\n",
    "        driver.find_element(By.CLASS_NAME, 'ui-state-default').click()\n",
    "        time.sleep(1)\n",
    "        \n",
    "        #검색\n",
    "        driver.find_element(By.CLASS_NAME, 'search.MgL10').click()\n",
    "        time.sleep(3)\n",
    "        \n",
    "        #엑셀 다운로드\n",
    "        driver.find_element(By.CLASS_NAME, 'xls').click()\n",
    "        time.sleep(2)"
   ]
  },
  {
   "cell_type": "code",
   "execution_count": null,
   "id": "ae090899",
   "metadata": {},
   "outputs": [],
   "source": []
  }
 ],
 "metadata": {
  "kernelspec": {
   "display_name": "Python 3 (ipykernel)",
   "language": "python",
   "name": "python3"
  },
  "language_info": {
   "codemirror_mode": {
    "name": "ipython",
    "version": 3
   },
   "file_extension": ".py",
   "mimetype": "text/x-python",
   "name": "python",
   "nbconvert_exporter": "python",
   "pygments_lexer": "ipython3",
   "version": "3.9.13"
  }
 },
 "nbformat": 4,
 "nbformat_minor": 5
}
