{
 "cells": [
  {
   "cell_type": "code",
   "execution_count": 23,
   "id": "bf32e8be",
   "metadata": {},
   "outputs": [],
   "source": [
    "import pandas as pd\n",
    "from datetime import datetime, timedelta"
   ]
  },
  {
   "cell_type": "code",
   "execution_count": 24,
   "id": "adf4c2f6",
   "metadata": {},
   "outputs": [],
   "source": [
    "# 24:00을 시계열 자료형으로 변환하는 함수\n",
    "def zerofrom24(datetime, _format):\n",
    "    datetime = str(datetime)\n",
    "    try:\n",
    "        return pd.to_datetime(datetime, format = _format)\n",
    "    except:\n",
    "        datetime = datetime[:-5] + '00:00'\n",
    "        return pd.to_datetime(datetime, format = _format)+ timedelta(days=1)"
   ]
  },
  {
   "cell_type": "code",
   "execution_count": 2,
   "id": "194abcb4",
   "metadata": {},
   "outputs": [
    {
     "name": "stderr",
     "output_type": "stream",
     "text": [
      "C:\\Users\\user\\AppData\\Local\\Temp\\ipykernel_2160\\3079774618.py:1: DtypeWarning: Columns (14) have mixed types. Specify dtype option on import or set low_memory=False.\n",
      "  df_temp_2018 = pd.read_csv('./data/기상관측/기상2018년.csv', encoding='cp949')\n",
      "C:\\Users\\user\\AppData\\Local\\Temp\\ipykernel_2160\\3079774618.py:2: DtypeWarning: Columns (14) have mixed types. Specify dtype option on import or set low_memory=False.\n",
      "  df_temp_2019 = pd.read_csv('./data/기상관측/기상2019년.csv', encoding='cp949')\n",
      "C:\\Users\\user\\AppData\\Local\\Temp\\ipykernel_2160\\3079774618.py:3: DtypeWarning: Columns (14) have mixed types. Specify dtype option on import or set low_memory=False.\n",
      "  df_temp_2020 = pd.read_csv('./data/기상관측/기상2020년.csv', encoding='cp949')\n",
      "C:\\Users\\user\\AppData\\Local\\Temp\\ipykernel_2160\\3079774618.py:4: DtypeWarning: Columns (14) have mixed types. Specify dtype option on import or set low_memory=False.\n",
      "  df_temp_2021 = pd.read_csv('./data/기상관측/기상2021년.csv', encoding='cp949')\n",
      "C:\\Users\\user\\AppData\\Local\\Temp\\ipykernel_2160\\3079774618.py:5: DtypeWarning: Columns (14) have mixed types. Specify dtype option on import or set low_memory=False.\n",
      "  df_temp_2022 = pd.read_csv('./data/기상관측/기상2022년.csv', encoding='cp949')\n"
     ]
    }
   ],
   "source": [
    "# 기상정보 가져오기(기온, 강수, 풍속 등)\n",
    "df_temp_2018 = pd.read_csv('./data/기상관측/기상2018년.csv', encoding='cp949')\n",
    "df_temp_2019 = pd.read_csv('./data/기상관측/기상2019년.csv', encoding='cp949')\n",
    "df_temp_2020 = pd.read_csv('./data/기상관측/기상2020년.csv', encoding='cp949')\n",
    "df_temp_2021 = pd.read_csv('./data/기상관측/기상2021년.csv', encoding='cp949')\n",
    "df_temp_2022 = pd.read_csv('./data/기상관측/기상2022년.csv', encoding='cp949')"
   ]
  },
  {
   "cell_type": "code",
   "execution_count": 4,
   "id": "43c42a9d",
   "metadata": {},
   "outputs": [],
   "source": [
    "# 데이터 결합\n",
    "df_temp = pd.concat([df_temp_2018, df_temp_2019, df_temp_2020, df_temp_2021, df_temp_2022], axis=0)"
   ]
  },
  {
   "cell_type": "code",
   "execution_count": 5,
   "id": "abdaeac2",
   "metadata": {},
   "outputs": [],
   "source": [
    "# 일시 컬럼을 시계열 자료형으로 변경\n",
    "df_temp['일시'] = pd.to_datetime(df_temp['일시'], format='%Y%m%d %H:%M')"
   ]
  },
  {
   "cell_type": "code",
   "execution_count": 9,
   "id": "6e10892b",
   "metadata": {},
   "outputs": [
    {
     "name": "stdout",
     "output_type": "stream",
     "text": [
      "<class 'pandas.core.frame.DataFrame'>\n",
      "Int64Index: 4164450 entries, 0 to 832187\n",
      "Data columns (total 15 columns):\n",
      " #   Column     Dtype         \n",
      "---  ------     -----         \n",
      " 0   지점         int64         \n",
      " 1   지점명        object        \n",
      " 2   일시         datetime64[ns]\n",
      " 3   기온(°C)     float64       \n",
      " 4   강수량(mm)    float64       \n",
      " 5   풍속(m/s)    float64       \n",
      " 6   풍향(16방위)   float64       \n",
      " 7   습도(%)      float64       \n",
      " 8   현지기압(hPa)  float64       \n",
      " 9   해면기압(hPa)  float64       \n",
      " 10  일조(hr)     float64       \n",
      " 11  일사(MJ/m2)  float64       \n",
      " 12  적설(cm)     float64       \n",
      " 13  전운량(10분위)  float64       \n",
      " 14  운형(운형약어)   object        \n",
      "dtypes: datetime64[ns](1), float64(11), int64(1), object(2)\n",
      "memory usage: 508.4+ MB\n"
     ]
    }
   ],
   "source": [
    "df_temp.info()"
   ]
  },
  {
   "cell_type": "code",
   "execution_count": 7,
   "id": "4aa3d533",
   "metadata": {},
   "outputs": [],
   "source": [
    "# 대기정보 가져오기(미세먼지, 초미세먼지, 이산화탄소, 일산화탄소, 아황산가스 농도)\n",
    "df_airinfo = pd.read_csv('./data/관측소별대기정보/관측소2018~2022_수정.csv')"
   ]
  },
  {
   "cell_type": "code",
   "execution_count": 8,
   "id": "200d7095",
   "metadata": {},
   "outputs": [],
   "source": [
    "# 일시 컬럼을 시계열 자료형으로 변경\n",
    "df_airinfo['일시'] = df_airinfo['일시'].apply(lambda x: zerofrom24(x, '%Y%m%d %H:%M'))"
   ]
  },
  {
   "cell_type": "code",
   "execution_count": 10,
   "id": "f5210546",
   "metadata": {},
   "outputs": [],
   "source": [
    "# 타입변경이 이루어진 데이터를 저장\n",
    "df_airinfo.to_csv('./data/관측소별대기정보/관측소2018~2022_수정_타입변경.csv', index=False)"
   ]
  },
  {
   "cell_type": "code",
   "execution_count": 11,
   "id": "ec4d9c70",
   "metadata": {},
   "outputs": [],
   "source": [
    "# 기상정보와 대기정보 데이터를 지점명과 일시를 기준으로 결합\n",
    "df = pd.merge(df_temp, df_airinfo, how='left', left_on=['지점명', '일시'], right_on=['지점명', '일시'])"
   ]
  },
  {
   "cell_type": "code",
   "execution_count": 18,
   "id": "40d755b9",
   "metadata": {},
   "outputs": [
    {
     "data": {
      "text/plain": [
       "Index(['지점', '지점명', '일시', '기온(°C)', '강수량(mm)', '풍속(m/s)', '풍향(16방위)', '습도(%)',\n",
       "       '현지기압(hPa)', '해면기압(hPa)', '일조(hr)', '일사(MJ/m2)', '적설(cm)', '전운량(10분위)',\n",
       "       '운형(운형약어)', 'PM10', 'PM2.5', 'Ozon', 'CO2', 'CO', 'SO2'],\n",
       "      dtype='object')"
      ]
     },
     "execution_count": 18,
     "metadata": {},
     "output_type": "execute_result"
    }
   ],
   "source": [
    "df.columns"
   ]
  },
  {
   "cell_type": "code",
   "execution_count": 19,
   "id": "947c3a2b",
   "metadata": {},
   "outputs": [],
   "source": [
    "# 강수량과 적설 컬럼의 결측치를 0으로 채우기\n",
    "df['강수량(mm)'].fillna(0, inplace=True)\n",
    "df['적설(cm)'].fillna(0, inplace=True)"
   ]
  },
  {
   "cell_type": "code",
   "execution_count": 20,
   "id": "37882877",
   "metadata": {},
   "outputs": [],
   "source": [
    "# 필요없는 컬럼 제거\n",
    "df.drop(columns=['일사(MJ/m2)', '운형(운형약어)', '일조(hr)'], inplace=True)"
   ]
  },
  {
   "cell_type": "code",
   "execution_count": 26,
   "id": "c7147060",
   "metadata": {},
   "outputs": [],
   "source": [
    "# 결측값이 있는 행 제거\n",
    "df.dropna(inplace=True)"
   ]
  },
  {
   "cell_type": "code",
   "execution_count": 27,
   "id": "b73f19c3",
   "metadata": {},
   "outputs": [],
   "source": [
    "df.to_csv('./data/기상대기정보.csv', index=False)"
   ]
  },
  {
   "cell_type": "code",
   "execution_count": null,
   "id": "3e680086",
   "metadata": {},
   "outputs": [],
   "source": []
  }
 ],
 "metadata": {
  "kernelspec": {
   "display_name": "Python 3 (ipykernel)",
   "language": "python",
   "name": "python3"
  },
  "language_info": {
   "codemirror_mode": {
    "name": "ipython",
    "version": 3
   },
   "file_extension": ".py",
   "mimetype": "text/x-python",
   "name": "python",
   "nbconvert_exporter": "python",
   "pygments_lexer": "ipython3",
   "version": "3.9.13"
  }
 },
 "nbformat": 4,
 "nbformat_minor": 5
}
