{
 "cells": [
  {
   "cell_type": "code",
   "execution_count": 41,
   "id": "d583041b",
   "metadata": {},
   "outputs": [],
   "source": [
    "import pandas as pd\n",
    "import numpy as np\n",
    "import seaborn as sns\n",
    "import matplotlib.pyplot as plt\n",
    "from sklearn.model_selection import train_test_split\n",
    "from sklearn.linear_model import LinearRegression\n",
    "from sklearn.metrics import mean_squared_error\n",
    "from sklearn.preprocessing import StandardScaler\n",
    "import statsmodels.api as sm\n",
    "from sklearn.tree import DecisionTreeRegressor\n",
    "from sklearn.svm import SVR\n",
    "from sklearn.ensemble import RandomForestRegressor\n",
    "from statsmodels.stats.outliers_influence import variance_inflation_factor\n",
    "# from keras.models import Sequential\n",
    "# from keras.layers import Dense\n",
    "# from keras.callbacks import EarlyStopping"
   ]
  },
  {
   "cell_type": "code",
   "execution_count": 42,
   "id": "b0cb4f73",
   "metadata": {},
   "outputs": [],
   "source": [
    "#한글 처리를 위해 폰트 설정\n",
    "from matplotlib import font_manager, rc\n",
    "font_name = font_manager.FontProperties(fname=\"c:/Windows/Fonts/malgun.ttf\").get_name()\n",
    "rc('font', family=font_name)"
   ]
  },
  {
   "cell_type": "code",
   "execution_count": 43,
   "id": "8115ab9a",
   "metadata": {},
   "outputs": [],
   "source": [
    "df=pd.read_csv('C:/Users/songh/Desktop/workspace/weather/기상대기정보.csv')"
   ]
  },
  {
   "cell_type": "code",
   "execution_count": 44,
   "id": "9950c6ca",
   "metadata": {},
   "outputs": [
    {
     "data": {
      "text/html": [
       "<div>\n",
       "<style scoped>\n",
       "    .dataframe tbody tr th:only-of-type {\n",
       "        vertical-align: middle;\n",
       "    }\n",
       "\n",
       "    .dataframe tbody tr th {\n",
       "        vertical-align: top;\n",
       "    }\n",
       "\n",
       "    .dataframe thead th {\n",
       "        text-align: right;\n",
       "    }\n",
       "</style>\n",
       "<table border=\"1\" class=\"dataframe\">\n",
       "  <thead>\n",
       "    <tr style=\"text-align: right;\">\n",
       "      <th></th>\n",
       "      <th>지점명</th>\n",
       "      <th>일시</th>\n",
       "      <th>지점</th>\n",
       "      <th>기온(°C)</th>\n",
       "      <th>강수여부</th>\n",
       "      <th>풍속(m/s)</th>\n",
       "      <th>풍향(16방위)</th>\n",
       "      <th>습도(%)</th>\n",
       "      <th>현지기압(hPa)</th>\n",
       "      <th>해면기압(hPa)</th>\n",
       "      <th>...</th>\n",
       "      <th>Ozon</th>\n",
       "      <th>NO2</th>\n",
       "      <th>CO</th>\n",
       "      <th>SO2</th>\n",
       "      <th>증기압(hPa)</th>\n",
       "      <th>이슬점온도(°C)</th>\n",
       "      <th>시정(10m)</th>\n",
       "      <th>지면온도(°C)</th>\n",
       "      <th>월</th>\n",
       "      <th>전날기온</th>\n",
       "    </tr>\n",
       "  </thead>\n",
       "  <tbody>\n",
       "    <tr>\n",
       "      <th>0</th>\n",
       "      <td>철원</td>\n",
       "      <td>2018-08-02 01:00:00</td>\n",
       "      <td>95</td>\n",
       "      <td>28.2</td>\n",
       "      <td>0</td>\n",
       "      <td>1.0</td>\n",
       "      <td>50.0</td>\n",
       "      <td>79.0</td>\n",
       "      <td>987.3</td>\n",
       "      <td>1004.6</td>\n",
       "      <td>...</td>\n",
       "      <td>0.023</td>\n",
       "      <td>0.003</td>\n",
       "      <td>0.3</td>\n",
       "      <td>0.001</td>\n",
       "      <td>30.2</td>\n",
       "      <td>24.2</td>\n",
       "      <td>1522.0</td>\n",
       "      <td>27.7</td>\n",
       "      <td>8</td>\n",
       "      <td>25.0</td>\n",
       "    </tr>\n",
       "    <tr>\n",
       "      <th>1</th>\n",
       "      <td>철원</td>\n",
       "      <td>2018-08-02 02:00:00</td>\n",
       "      <td>95</td>\n",
       "      <td>27.3</td>\n",
       "      <td>0</td>\n",
       "      <td>0.7</td>\n",
       "      <td>90.0</td>\n",
       "      <td>85.0</td>\n",
       "      <td>987.5</td>\n",
       "      <td>1004.9</td>\n",
       "      <td>...</td>\n",
       "      <td>0.024</td>\n",
       "      <td>0.003</td>\n",
       "      <td>0.3</td>\n",
       "      <td>0.001</td>\n",
       "      <td>30.7</td>\n",
       "      <td>24.5</td>\n",
       "      <td>1346.0</td>\n",
       "      <td>26.8</td>\n",
       "      <td>8</td>\n",
       "      <td>24.2</td>\n",
       "    </tr>\n",
       "    <tr>\n",
       "      <th>2</th>\n",
       "      <td>철원</td>\n",
       "      <td>2018-08-02 03:00:00</td>\n",
       "      <td>95</td>\n",
       "      <td>26.5</td>\n",
       "      <td>0</td>\n",
       "      <td>0.4</td>\n",
       "      <td>0.0</td>\n",
       "      <td>87.0</td>\n",
       "      <td>987.8</td>\n",
       "      <td>1005.2</td>\n",
       "      <td>...</td>\n",
       "      <td>0.024</td>\n",
       "      <td>0.003</td>\n",
       "      <td>0.2</td>\n",
       "      <td>0.001</td>\n",
       "      <td>30.0</td>\n",
       "      <td>24.1</td>\n",
       "      <td>1072.0</td>\n",
       "      <td>26.2</td>\n",
       "      <td>8</td>\n",
       "      <td>23.6</td>\n",
       "    </tr>\n",
       "    <tr>\n",
       "      <th>3</th>\n",
       "      <td>철원</td>\n",
       "      <td>2018-08-02 04:00:00</td>\n",
       "      <td>95</td>\n",
       "      <td>26.1</td>\n",
       "      <td>0</td>\n",
       "      <td>1.0</td>\n",
       "      <td>70.0</td>\n",
       "      <td>91.0</td>\n",
       "      <td>987.9</td>\n",
       "      <td>1005.4</td>\n",
       "      <td>...</td>\n",
       "      <td>0.024</td>\n",
       "      <td>0.002</td>\n",
       "      <td>0.2</td>\n",
       "      <td>0.001</td>\n",
       "      <td>30.7</td>\n",
       "      <td>24.5</td>\n",
       "      <td>1125.0</td>\n",
       "      <td>25.7</td>\n",
       "      <td>8</td>\n",
       "      <td>23.7</td>\n",
       "    </tr>\n",
       "    <tr>\n",
       "      <th>4</th>\n",
       "      <td>철원</td>\n",
       "      <td>2018-08-02 05:00:00</td>\n",
       "      <td>95</td>\n",
       "      <td>26.5</td>\n",
       "      <td>0</td>\n",
       "      <td>0.6</td>\n",
       "      <td>140.0</td>\n",
       "      <td>90.0</td>\n",
       "      <td>988.4</td>\n",
       "      <td>1005.8</td>\n",
       "      <td>...</td>\n",
       "      <td>0.021</td>\n",
       "      <td>0.002</td>\n",
       "      <td>0.2</td>\n",
       "      <td>0.001</td>\n",
       "      <td>31.1</td>\n",
       "      <td>24.7</td>\n",
       "      <td>1329.0</td>\n",
       "      <td>25.4</td>\n",
       "      <td>8</td>\n",
       "      <td>22.9</td>\n",
       "    </tr>\n",
       "  </tbody>\n",
       "</table>\n",
       "<p>5 rows × 25 columns</p>\n",
       "</div>"
      ],
      "text/plain": [
       "  지점명                   일시  지점  기온(°C)  강수여부  풍속(m/s)  풍향(16방위)  습도(%)  \\\n",
       "0  철원  2018-08-02 01:00:00  95    28.2     0      1.0      50.0   79.0   \n",
       "1  철원  2018-08-02 02:00:00  95    27.3     0      0.7      90.0   85.0   \n",
       "2  철원  2018-08-02 03:00:00  95    26.5     0      0.4       0.0   87.0   \n",
       "3  철원  2018-08-02 04:00:00  95    26.1     0      1.0      70.0   91.0   \n",
       "4  철원  2018-08-02 05:00:00  95    26.5     0      0.6     140.0   90.0   \n",
       "\n",
       "   현지기압(hPa)  해면기압(hPa)  ...   Ozon    NO2   CO    SO2  증기압(hPa)  이슬점온도(°C)  \\\n",
       "0      987.3     1004.6  ...  0.023  0.003  0.3  0.001      30.2       24.2   \n",
       "1      987.5     1004.9  ...  0.024  0.003  0.3  0.001      30.7       24.5   \n",
       "2      987.8     1005.2  ...  0.024  0.003  0.2  0.001      30.0       24.1   \n",
       "3      987.9     1005.4  ...  0.024  0.002  0.2  0.001      30.7       24.5   \n",
       "4      988.4     1005.8  ...  0.021  0.002  0.2  0.001      31.1       24.7   \n",
       "\n",
       "   시정(10m)  지면온도(°C)  월  전날기온  \n",
       "0   1522.0      27.7  8  25.0  \n",
       "1   1346.0      26.8  8  24.2  \n",
       "2   1072.0      26.2  8  23.6  \n",
       "3   1125.0      25.7  8  23.7  \n",
       "4   1329.0      25.4  8  22.9  \n",
       "\n",
       "[5 rows x 25 columns]"
      ]
     },
     "execution_count": 44,
     "metadata": {},
     "output_type": "execute_result"
    }
   ],
   "source": [
    "df.head()"
   ]
  },
  {
   "cell_type": "code",
   "execution_count": 45,
   "id": "cf082300",
   "metadata": {},
   "outputs": [
    {
     "data": {
      "text/plain": [
       "Index(['지점명', '일시', '지점', '기온(°C)', '강수여부', '풍속(m/s)', '풍향(16방위)', '습도(%)',\n",
       "       '현지기압(hPa)', '해면기압(hPa)', '일조(hr)', '적설(cm)', '전운량(10분위)', 'PM10',\n",
       "       'PM2.5', 'Ozon', 'NO2', 'CO', 'SO2', '증기압(hPa)', '이슬점온도(°C)', '시정(10m)',\n",
       "       '지면온도(°C)', '월', '전날기온'],\n",
       "      dtype='object')"
      ]
     },
     "execution_count": 45,
     "metadata": {},
     "output_type": "execute_result"
    }
   ],
   "source": [
    "df.columns"
   ]
  },
  {
   "cell_type": "code",
   "execution_count": 46,
   "id": "683193be",
   "metadata": {},
   "outputs": [],
   "source": [
    "# 당일 기온 저장\n",
    "y_today = df['기온(°C)'].copy()"
   ]
  },
  {
   "cell_type": "code",
   "execution_count": 47,
   "id": "b51545aa",
   "metadata": {},
   "outputs": [],
   "source": [
    "# 종속변수, 독립변수 분리\n",
    "y = df['기온(°C)'].copy()\n",
    "X = df[df.columns[4:]].copy()"
   ]
  },
  {
   "cell_type": "code",
   "execution_count": 48,
   "id": "272522f7",
   "metadata": {},
   "outputs": [],
   "source": [
    "y.drop(index=[0], inplace=True)\n",
    "X.drop(index=[len(X)-1], inplace=True)"
   ]
  },
  {
   "cell_type": "code",
   "execution_count": 49,
   "id": "e3ddebe9",
   "metadata": {},
   "outputs": [],
   "source": [
    "y = y.reset_index(drop=True)"
   ]
  },
  {
   "cell_type": "code",
   "execution_count": 50,
   "id": "10cf1426",
   "metadata": {},
   "outputs": [],
   "source": [
    "X['전날기온']=y_today.drop(index=[len(y_today)-1])"
   ]
  },
  {
   "cell_type": "code",
   "execution_count": 51,
   "id": "55cc388b",
   "metadata": {
    "scrolled": true
   },
   "outputs": [],
   "source": [
    "# 범위형 변수 제거\n",
    "X.drop(columns=['풍향(16방위)', '전운량(10분위)', '월'], axis=1, inplace=True)"
   ]
  },
  {
   "cell_type": "code",
   "execution_count": 52,
   "id": "67d6bc19",
   "metadata": {},
   "outputs": [],
   "source": [
    "# 더미변수 생성\n",
    "X=pd.get_dummies(data=X, columns=['강수여부'])"
   ]
  },
  {
   "cell_type": "code",
   "execution_count": 53,
   "id": "a2d0ce50",
   "metadata": {},
   "outputs": [
    {
     "data": {
      "text/html": [
       "<div>\n",
       "<style scoped>\n",
       "    .dataframe tbody tr th:only-of-type {\n",
       "        vertical-align: middle;\n",
       "    }\n",
       "\n",
       "    .dataframe tbody tr th {\n",
       "        vertical-align: top;\n",
       "    }\n",
       "\n",
       "    .dataframe thead th {\n",
       "        text-align: right;\n",
       "    }\n",
       "</style>\n",
       "<table border=\"1\" class=\"dataframe\">\n",
       "  <thead>\n",
       "    <tr style=\"text-align: right;\">\n",
       "      <th></th>\n",
       "      <th>풍속(m/s)</th>\n",
       "      <th>습도(%)</th>\n",
       "      <th>현지기압(hPa)</th>\n",
       "      <th>해면기압(hPa)</th>\n",
       "      <th>일조(hr)</th>\n",
       "      <th>적설(cm)</th>\n",
       "      <th>PM10</th>\n",
       "      <th>PM2.5</th>\n",
       "      <th>O3</th>\n",
       "      <th>NO2</th>\n",
       "      <th>CO</th>\n",
       "      <th>SO2</th>\n",
       "      <th>증기압(hPa)</th>\n",
       "      <th>이슬점온도(°C)</th>\n",
       "      <th>시정(10m)</th>\n",
       "      <th>지면온도(°C)</th>\n",
       "      <th>전날기온</th>\n",
       "      <th>강수여부_0</th>\n",
       "      <th>강수여부_1</th>\n",
       "    </tr>\n",
       "  </thead>\n",
       "  <tbody>\n",
       "    <tr>\n",
       "      <th>0</th>\n",
       "      <td>-0.543789</td>\n",
       "      <td>0.446784</td>\n",
       "      <td>-1.147573</td>\n",
       "      <td>-1.434567</td>\n",
       "      <td>-0.645615</td>\n",
       "      <td>-0.070183</td>\n",
       "      <td>-0.019538</td>\n",
       "      <td>-0.005901</td>\n",
       "      <td>-0.525180</td>\n",
       "      <td>-0.874219</td>\n",
       "      <td>-0.547369</td>\n",
       "      <td>-1.069525</td>\n",
       "      <td>1.997825</td>\n",
       "      <td>1.491758</td>\n",
       "      <td>-0.335595</td>\n",
       "      <td>1.010295</td>\n",
       "      <td>1.480713</td>\n",
       "      <td>1</td>\n",
       "      <td>0</td>\n",
       "    </tr>\n",
       "    <tr>\n",
       "      <th>1</th>\n",
       "      <td>-0.725001</td>\n",
       "      <td>0.724630</td>\n",
       "      <td>-1.134416</td>\n",
       "      <td>-1.398730</td>\n",
       "      <td>-0.645615</td>\n",
       "      <td>-0.070183</td>\n",
       "      <td>0.151909</td>\n",
       "      <td>0.123778</td>\n",
       "      <td>-0.472110</td>\n",
       "      <td>-0.874219</td>\n",
       "      <td>-0.547369</td>\n",
       "      <td>-1.069525</td>\n",
       "      <td>2.055109</td>\n",
       "      <td>1.517753</td>\n",
       "      <td>-0.482682</td>\n",
       "      <td>0.937277</td>\n",
       "      <td>1.391530</td>\n",
       "      <td>1</td>\n",
       "      <td>0</td>\n",
       "    </tr>\n",
       "    <tr>\n",
       "      <th>2</th>\n",
       "      <td>-0.906213</td>\n",
       "      <td>0.817245</td>\n",
       "      <td>-1.114680</td>\n",
       "      <td>-1.362893</td>\n",
       "      <td>-0.645615</td>\n",
       "      <td>-0.070183</td>\n",
       "      <td>-0.053827</td>\n",
       "      <td>-0.031837</td>\n",
       "      <td>-0.472110</td>\n",
       "      <td>-0.874219</td>\n",
       "      <td>-1.048907</td>\n",
       "      <td>-1.069525</td>\n",
       "      <td>1.974911</td>\n",
       "      <td>1.483092</td>\n",
       "      <td>-0.711671</td>\n",
       "      <td>0.888598</td>\n",
       "      <td>1.312256</td>\n",
       "      <td>1</td>\n",
       "      <td>0</td>\n",
       "    </tr>\n",
       "    <tr>\n",
       "      <th>3</th>\n",
       "      <td>-0.543789</td>\n",
       "      <td>1.002476</td>\n",
       "      <td>-1.108101</td>\n",
       "      <td>-1.339002</td>\n",
       "      <td>-0.645615</td>\n",
       "      <td>-0.070183</td>\n",
       "      <td>-0.019538</td>\n",
       "      <td>-0.005901</td>\n",
       "      <td>-0.472110</td>\n",
       "      <td>-0.966011</td>\n",
       "      <td>-1.048907</td>\n",
       "      <td>-1.069525</td>\n",
       "      <td>2.055109</td>\n",
       "      <td>1.517753</td>\n",
       "      <td>-0.667378</td>\n",
       "      <td>0.848033</td>\n",
       "      <td>1.272619</td>\n",
       "      <td>1</td>\n",
       "      <td>0</td>\n",
       "    </tr>\n",
       "    <tr>\n",
       "      <th>4</th>\n",
       "      <td>-0.785405</td>\n",
       "      <td>0.956168</td>\n",
       "      <td>-1.075209</td>\n",
       "      <td>-1.291220</td>\n",
       "      <td>-0.645615</td>\n",
       "      <td>-0.070183</td>\n",
       "      <td>0.151909</td>\n",
       "      <td>0.123778</td>\n",
       "      <td>-0.631320</td>\n",
       "      <td>-0.966011</td>\n",
       "      <td>-1.048907</td>\n",
       "      <td>-1.069525</td>\n",
       "      <td>2.100937</td>\n",
       "      <td>1.535083</td>\n",
       "      <td>-0.496890</td>\n",
       "      <td>0.823694</td>\n",
       "      <td>1.312256</td>\n",
       "      <td>1</td>\n",
       "      <td>0</td>\n",
       "    </tr>\n",
       "    <tr>\n",
       "      <th>...</th>\n",
       "      <td>...</td>\n",
       "      <td>...</td>\n",
       "      <td>...</td>\n",
       "      <td>...</td>\n",
       "      <td>...</td>\n",
       "      <td>...</td>\n",
       "      <td>...</td>\n",
       "      <td>...</td>\n",
       "      <td>...</td>\n",
       "      <td>...</td>\n",
       "      <td>...</td>\n",
       "      <td>...</td>\n",
       "      <td>...</td>\n",
       "      <td>...</td>\n",
       "      <td>...</td>\n",
       "      <td>...</td>\n",
       "      <td>...</td>\n",
       "      <td>...</td>\n",
       "      <td>...</td>\n",
       "    </tr>\n",
       "    <tr>\n",
       "      <th>1933327</th>\n",
       "      <td>-0.664597</td>\n",
       "      <td>-1.081369</td>\n",
       "      <td>1.194388</td>\n",
       "      <td>1.420429</td>\n",
       "      <td>-0.645615</td>\n",
       "      <td>-0.070183</td>\n",
       "      <td>-0.739614</td>\n",
       "      <td>-0.421114</td>\n",
       "      <td>0.323936</td>\n",
       "      <td>-0.507052</td>\n",
       "      <td>0.455707</td>\n",
       "      <td>0.057103</td>\n",
       "      <td>-1.038248</td>\n",
       "      <td>-1.177082</td>\n",
       "      <td>2.571060</td>\n",
       "      <td>-1.172123</td>\n",
       "      <td>-0.927230</td>\n",
       "      <td>1</td>\n",
       "      <td>0</td>\n",
       "    </tr>\n",
       "    <tr>\n",
       "      <th>1933328</th>\n",
       "      <td>-0.362577</td>\n",
       "      <td>-0.942446</td>\n",
       "      <td>1.247016</td>\n",
       "      <td>1.515994</td>\n",
       "      <td>-0.645615</td>\n",
       "      <td>-0.070183</td>\n",
       "      <td>-0.705324</td>\n",
       "      <td>-0.524617</td>\n",
       "      <td>0.217797</td>\n",
       "      <td>-0.415260</td>\n",
       "      <td>0.455707</td>\n",
       "      <td>0.057103</td>\n",
       "      <td>-1.015334</td>\n",
       "      <td>-1.133756</td>\n",
       "      <td>2.571060</td>\n",
       "      <td>-1.204576</td>\n",
       "      <td>-0.956957</td>\n",
       "      <td>1</td>\n",
       "      <td>0</td>\n",
       "    </tr>\n",
       "    <tr>\n",
       "      <th>1933329</th>\n",
       "      <td>-0.241769</td>\n",
       "      <td>-0.710908</td>\n",
       "      <td>1.247016</td>\n",
       "      <td>1.527940</td>\n",
       "      <td>-0.645615</td>\n",
       "      <td>-0.070183</td>\n",
       "      <td>-0.671035</td>\n",
       "      <td>-0.489956</td>\n",
       "      <td>0.058587</td>\n",
       "      <td>-0.139884</td>\n",
       "      <td>0.455707</td>\n",
       "      <td>0.057103</td>\n",
       "      <td>-0.980963</td>\n",
       "      <td>-1.038441</td>\n",
       "      <td>1.854007</td>\n",
       "      <td>-1.269480</td>\n",
       "      <td>-0.976776</td>\n",
       "      <td>1</td>\n",
       "      <td>0</td>\n",
       "    </tr>\n",
       "    <tr>\n",
       "      <th>1933330</th>\n",
       "      <td>-0.181365</td>\n",
       "      <td>-0.525677</td>\n",
       "      <td>1.279909</td>\n",
       "      <td>1.587668</td>\n",
       "      <td>-0.645615</td>\n",
       "      <td>-0.070183</td>\n",
       "      <td>-0.602456</td>\n",
       "      <td>-0.489956</td>\n",
       "      <td>0.217797</td>\n",
       "      <td>-0.507052</td>\n",
       "      <td>0.455707</td>\n",
       "      <td>0.057103</td>\n",
       "      <td>-0.958049</td>\n",
       "      <td>-0.977785</td>\n",
       "      <td>1.162862</td>\n",
       "      <td>-1.318159</td>\n",
       "      <td>-1.006504</td>\n",
       "      <td>1</td>\n",
       "      <td>0</td>\n",
       "    </tr>\n",
       "    <tr>\n",
       "      <th>1933331</th>\n",
       "      <td>-0.302173</td>\n",
       "      <td>-0.386754</td>\n",
       "      <td>1.253594</td>\n",
       "      <td>1.539885</td>\n",
       "      <td>-0.645615</td>\n",
       "      <td>-0.070183</td>\n",
       "      <td>-0.533878</td>\n",
       "      <td>-0.421114</td>\n",
       "      <td>0.217797</td>\n",
       "      <td>-0.507052</td>\n",
       "      <td>0.455707</td>\n",
       "      <td>0.057103</td>\n",
       "      <td>-0.969506</td>\n",
       "      <td>-1.021111</td>\n",
       "      <td>1.062575</td>\n",
       "      <td>-1.391176</td>\n",
       "      <td>-1.125414</td>\n",
       "      <td>1</td>\n",
       "      <td>0</td>\n",
       "    </tr>\n",
       "  </tbody>\n",
       "</table>\n",
       "<p>1933332 rows × 19 columns</p>\n",
       "</div>"
      ],
      "text/plain": [
       "          풍속(m/s)     습도(%)  현지기압(hPa)  해면기압(hPa)    일조(hr)    적설(cm)  \\\n",
       "0       -0.543789  0.446784  -1.147573  -1.434567 -0.645615 -0.070183   \n",
       "1       -0.725001  0.724630  -1.134416  -1.398730 -0.645615 -0.070183   \n",
       "2       -0.906213  0.817245  -1.114680  -1.362893 -0.645615 -0.070183   \n",
       "3       -0.543789  1.002476  -1.108101  -1.339002 -0.645615 -0.070183   \n",
       "4       -0.785405  0.956168  -1.075209  -1.291220 -0.645615 -0.070183   \n",
       "...           ...       ...        ...        ...       ...       ...   \n",
       "1933327 -0.664597 -1.081369   1.194388   1.420429 -0.645615 -0.070183   \n",
       "1933328 -0.362577 -0.942446   1.247016   1.515994 -0.645615 -0.070183   \n",
       "1933329 -0.241769 -0.710908   1.247016   1.527940 -0.645615 -0.070183   \n",
       "1933330 -0.181365 -0.525677   1.279909   1.587668 -0.645615 -0.070183   \n",
       "1933331 -0.302173 -0.386754   1.253594   1.539885 -0.645615 -0.070183   \n",
       "\n",
       "             PM10     PM2.5        O3       NO2        CO       SO2  증기압(hPa)  \\\n",
       "0       -0.019538 -0.005901 -0.525180 -0.874219 -0.547369 -1.069525  1.997825   \n",
       "1        0.151909  0.123778 -0.472110 -0.874219 -0.547369 -1.069525  2.055109   \n",
       "2       -0.053827 -0.031837 -0.472110 -0.874219 -1.048907 -1.069525  1.974911   \n",
       "3       -0.019538 -0.005901 -0.472110 -0.966011 -1.048907 -1.069525  2.055109   \n",
       "4        0.151909  0.123778 -0.631320 -0.966011 -1.048907 -1.069525  2.100937   \n",
       "...           ...       ...       ...       ...       ...       ...       ...   \n",
       "1933327 -0.739614 -0.421114  0.323936 -0.507052  0.455707  0.057103 -1.038248   \n",
       "1933328 -0.705324 -0.524617  0.217797 -0.415260  0.455707  0.057103 -1.015334   \n",
       "1933329 -0.671035 -0.489956  0.058587 -0.139884  0.455707  0.057103 -0.980963   \n",
       "1933330 -0.602456 -0.489956  0.217797 -0.507052  0.455707  0.057103 -0.958049   \n",
       "1933331 -0.533878 -0.421114  0.217797 -0.507052  0.455707  0.057103 -0.969506   \n",
       "\n",
       "         이슬점온도(°C)   시정(10m)  지면온도(°C)      전날기온  강수여부_0  강수여부_1  \n",
       "0         1.491758 -0.335595  1.010295  1.480713       1       0  \n",
       "1         1.517753 -0.482682  0.937277  1.391530       1       0  \n",
       "2         1.483092 -0.711671  0.888598  1.312256       1       0  \n",
       "3         1.517753 -0.667378  0.848033  1.272619       1       0  \n",
       "4         1.535083 -0.496890  0.823694  1.312256       1       0  \n",
       "...            ...       ...       ...       ...     ...     ...  \n",
       "1933327  -1.177082  2.571060 -1.172123 -0.927230       1       0  \n",
       "1933328  -1.133756  2.571060 -1.204576 -0.956957       1       0  \n",
       "1933329  -1.038441  1.854007 -1.269480 -0.976776       1       0  \n",
       "1933330  -0.977785  1.162862 -1.318159 -1.006504       1       0  \n",
       "1933331  -1.021111  1.062575 -1.391176 -1.125414       1       0  \n",
       "\n",
       "[1933332 rows x 19 columns]"
      ]
     },
     "execution_count": 53,
     "metadata": {},
     "output_type": "execute_result"
    }
   ],
   "source": [
    "scaler = StandardScaler()\n",
    "scaler.fit(X.iloc[:,:-2])\n",
    "X_scaled = scaler.transform(X.iloc[:,:-2])\n",
    "X_scaled = pd.DataFrame(X_scaled)\n",
    "X_scaled.columns = ['풍속(m/s)', '습도(%)', '현지기압(hPa)', '해면기압(hPa)', '일조(hr)', '적설(cm)', 'PM10', 'PM2.5', \n",
    "                    'O3', 'NO2', 'CO', 'SO2', '증기압(hPa)', '이슬점온도(°C)', '시정(10m)', '지면온도(°C)', '전날기온']\n",
    "X_scaled = pd.concat([X_scaled, X.iloc[:,-2:]], axis=1)\n",
    "X_scaled"
   ]
  },
  {
   "cell_type": "code",
   "execution_count": 54,
   "id": "b2dc310c",
   "metadata": {},
   "outputs": [
    {
     "data": {
      "text/plain": [
       "Index(['풍속(m/s)', '습도(%)', '현지기압(hPa)', '해면기압(hPa)', '일조(hr)', '적설(cm)',\n",
       "       'PM10', 'PM2.5', 'O3', 'NO2', 'CO', 'SO2', '증기압(hPa)', '이슬점온도(°C)',\n",
       "       '시정(10m)', '지면온도(°C)', '전날기온', '강수여부_0', '강수여부_1'],\n",
       "      dtype='object')"
      ]
     },
     "execution_count": 54,
     "metadata": {},
     "output_type": "execute_result"
    }
   ],
   "source": [
    "X_scaled.columns"
   ]
  },
  {
   "cell_type": "code",
   "execution_count": 55,
   "id": "61d93be1",
   "metadata": {},
   "outputs": [],
   "source": [
    "# vif가 가장 높은 이슬점온도(°C) 제거\n",
    "X_scaled.drop(columns=['이슬점온도(°C)'], axis=1, inplace=True)"
   ]
  },
  {
   "cell_type": "code",
   "execution_count": 56,
   "id": "856404f2",
   "metadata": {},
   "outputs": [],
   "source": [
    "X_scaled.drop(columns=['전날기온'], axis=1, inplace=True)"
   ]
  },
  {
   "cell_type": "code",
   "execution_count": 59,
   "id": "23d5090b",
   "metadata": {
    "scrolled": true
   },
   "outputs": [],
   "source": [
    "# 상관계수가 높은 PM2.5 제거\n",
    "X_scaled.drop(columns=['PM2.5'], axis=1, inplace=True)"
   ]
  },
  {
   "cell_type": "code",
   "execution_count": 60,
   "id": "bdb828c7",
   "metadata": {},
   "outputs": [
    {
     "data": {
      "text/html": [
       "<div>\n",
       "<style scoped>\n",
       "    .dataframe tbody tr th:only-of-type {\n",
       "        vertical-align: middle;\n",
       "    }\n",
       "\n",
       "    .dataframe tbody tr th {\n",
       "        vertical-align: top;\n",
       "    }\n",
       "\n",
       "    .dataframe thead th {\n",
       "        text-align: right;\n",
       "    }\n",
       "</style>\n",
       "<table border=\"1\" class=\"dataframe\">\n",
       "  <thead>\n",
       "    <tr style=\"text-align: right;\">\n",
       "      <th></th>\n",
       "      <th>VIF Factor</th>\n",
       "      <th>features</th>\n",
       "    </tr>\n",
       "  </thead>\n",
       "  <tbody>\n",
       "    <tr>\n",
       "      <th>0</th>\n",
       "      <td>1.272079</td>\n",
       "      <td>풍속(m/s)</td>\n",
       "    </tr>\n",
       "    <tr>\n",
       "      <th>1</th>\n",
       "      <td>3.142436</td>\n",
       "      <td>습도(%)</td>\n",
       "    </tr>\n",
       "    <tr>\n",
       "      <th>2</th>\n",
       "      <td>1.499669</td>\n",
       "      <td>현지기압(hPa)</td>\n",
       "    </tr>\n",
       "    <tr>\n",
       "      <th>3</th>\n",
       "      <td>3.467886</td>\n",
       "      <td>해면기압(hPa)</td>\n",
       "    </tr>\n",
       "    <tr>\n",
       "      <th>4</th>\n",
       "      <td>2.067843</td>\n",
       "      <td>일조(hr)</td>\n",
       "    </tr>\n",
       "    <tr>\n",
       "      <th>5</th>\n",
       "      <td>1.014090</td>\n",
       "      <td>적설(cm)</td>\n",
       "    </tr>\n",
       "    <tr>\n",
       "      <th>6</th>\n",
       "      <td>1.289599</td>\n",
       "      <td>PM10</td>\n",
       "    </tr>\n",
       "    <tr>\n",
       "      <th>7</th>\n",
       "      <td>2.046962</td>\n",
       "      <td>O3</td>\n",
       "    </tr>\n",
       "    <tr>\n",
       "      <th>8</th>\n",
       "      <td>2.064056</td>\n",
       "      <td>NO2</td>\n",
       "    </tr>\n",
       "    <tr>\n",
       "      <th>9</th>\n",
       "      <td>1.661191</td>\n",
       "      <td>CO</td>\n",
       "    </tr>\n",
       "    <tr>\n",
       "      <th>10</th>\n",
       "      <td>1.261260</td>\n",
       "      <td>SO2</td>\n",
       "    </tr>\n",
       "    <tr>\n",
       "      <th>11</th>\n",
       "      <td>6.980412</td>\n",
       "      <td>증기압(hPa)</td>\n",
       "    </tr>\n",
       "    <tr>\n",
       "      <th>12</th>\n",
       "      <td>1.309887</td>\n",
       "      <td>시정(10m)</td>\n",
       "    </tr>\n",
       "    <tr>\n",
       "      <th>13</th>\n",
       "      <td>6.180446</td>\n",
       "      <td>지면온도(°C)</td>\n",
       "    </tr>\n",
       "    <tr>\n",
       "      <th>14</th>\n",
       "      <td>1.009467</td>\n",
       "      <td>강수여부_0</td>\n",
       "    </tr>\n",
       "    <tr>\n",
       "      <th>15</th>\n",
       "      <td>1.146050</td>\n",
       "      <td>강수여부_1</td>\n",
       "    </tr>\n",
       "  </tbody>\n",
       "</table>\n",
       "</div>"
      ],
      "text/plain": [
       "    VIF Factor   features\n",
       "0     1.272079    풍속(m/s)\n",
       "1     3.142436      습도(%)\n",
       "2     1.499669  현지기압(hPa)\n",
       "3     3.467886  해면기압(hPa)\n",
       "4     2.067843     일조(hr)\n",
       "5     1.014090     적설(cm)\n",
       "6     1.289599       PM10\n",
       "7     2.046962         O3\n",
       "8     2.064056        NO2\n",
       "9     1.661191         CO\n",
       "10    1.261260        SO2\n",
       "11    6.980412   증기압(hPa)\n",
       "12    1.309887    시정(10m)\n",
       "13    6.180446   지면온도(°C)\n",
       "14    1.009467     강수여부_0\n",
       "15    1.146050     강수여부_1"
      ]
     },
     "execution_count": 60,
     "metadata": {},
     "output_type": "execute_result"
    }
   ],
   "source": [
    "vif = pd.DataFrame()\n",
    "vif[\"VIF Factor\"] = [variance_inflation_factor(X_scaled.values, i) for i in range(X_scaled.shape[1])]\n",
    "vif[\"features\"] = X_scaled.columns\n",
    "vif"
   ]
  },
  {
   "cell_type": "code",
   "execution_count": 61,
   "id": "046fbd5c",
   "metadata": {},
   "outputs": [
    {
     "data": {
      "text/html": [
       "<table class=\"simpletable\">\n",
       "<caption>OLS Regression Results</caption>\n",
       "<tr>\n",
       "  <th>Dep. Variable:</th>         <td>기온(°C)</td>      <th>  R-squared:         </th>  <td>   0.934</td>  \n",
       "</tr>\n",
       "<tr>\n",
       "  <th>Model:</th>                   <td>OLS</td>       <th>  Adj. R-squared:    </th>  <td>   0.934</td>  \n",
       "</tr>\n",
       "<tr>\n",
       "  <th>Method:</th>             <td>Least Squares</td>  <th>  F-statistic:       </th>  <td>1.827e+06</td> \n",
       "</tr>\n",
       "<tr>\n",
       "  <th>Date:</th>             <td>Tue, 28 Mar 2023</td> <th>  Prob (F-statistic):</th>   <td>  0.00</td>   \n",
       "</tr>\n",
       "<tr>\n",
       "  <th>Time:</th>                 <td>22:51:27</td>     <th>  Log-Likelihood:    </th> <td>-4.5835e+06</td>\n",
       "</tr>\n",
       "<tr>\n",
       "  <th>No. Observations:</th>      <td>1933332</td>     <th>  AIC:               </th>  <td>9.167e+06</td> \n",
       "</tr>\n",
       "<tr>\n",
       "  <th>Df Residuals:</th>          <td>1933316</td>     <th>  BIC:               </th>  <td>9.167e+06</td> \n",
       "</tr>\n",
       "<tr>\n",
       "  <th>Df Model:</th>              <td>    15</td>      <th>                     </th>      <td> </td>     \n",
       "</tr>\n",
       "<tr>\n",
       "  <th>Covariance Type:</th>      <td>nonrobust</td>    <th>                     </th>      <td> </td>     \n",
       "</tr>\n",
       "</table>\n",
       "<table class=\"simpletable\">\n",
       "<tr>\n",
       "      <td></td>         <th>coef</th>     <th>std err</th>      <th>t</th>      <th>P>|t|</th>  <th>[0.025</th>    <th>0.975]</th>  \n",
       "</tr>\n",
       "<tr>\n",
       "  <th>풍속(m/s)</th>   <td>   -0.2164</td> <td>    0.002</td> <td> -102.981</td> <td> 0.000</td> <td>   -0.221</td> <td>   -0.212</td>\n",
       "</tr>\n",
       "<tr>\n",
       "  <th>습도(%)</th>     <td>   -1.3063</td> <td>    0.003</td> <td> -395.543</td> <td> 0.000</td> <td>   -1.313</td> <td>   -1.300</td>\n",
       "</tr>\n",
       "<tr>\n",
       "  <th>현지기압(hPa)</th> <td>    0.2154</td> <td>    0.002</td> <td>   94.408</td> <td> 0.000</td> <td>    0.211</td> <td>    0.220</td>\n",
       "</tr>\n",
       "<tr>\n",
       "  <th>해면기압(hPa)</th> <td>   -0.9565</td> <td>    0.003</td> <td> -275.704</td> <td> 0.000</td> <td>   -0.963</td> <td>   -0.950</td>\n",
       "</tr>\n",
       "<tr>\n",
       "  <th>일조(hr)</th>    <td>   -0.3036</td> <td>    0.003</td> <td> -113.308</td> <td> 0.000</td> <td>   -0.309</td> <td>   -0.298</td>\n",
       "</tr>\n",
       "<tr>\n",
       "  <th>적설(cm)</th>    <td>   -0.2676</td> <td>    0.002</td> <td> -142.650</td> <td> 0.000</td> <td>   -0.271</td> <td>   -0.264</td>\n",
       "</tr>\n",
       "<tr>\n",
       "  <th>PM10</th>      <td>    0.1270</td> <td>    0.002</td> <td>   60.032</td> <td> 0.000</td> <td>    0.123</td> <td>    0.131</td>\n",
       "</tr>\n",
       "<tr>\n",
       "  <th>O3</th>        <td>    0.3936</td> <td>    0.003</td> <td>  147.655</td> <td> 0.000</td> <td>    0.388</td> <td>    0.399</td>\n",
       "</tr>\n",
       "<tr>\n",
       "  <th>NO2</th>       <td>    0.4988</td> <td>    0.003</td> <td>  186.366</td> <td> 0.000</td> <td>    0.494</td> <td>    0.504</td>\n",
       "</tr>\n",
       "<tr>\n",
       "  <th>CO</th>        <td>   -0.1307</td> <td>    0.002</td> <td>  -54.427</td> <td> 0.000</td> <td>   -0.135</td> <td>   -0.126</td>\n",
       "</tr>\n",
       "<tr>\n",
       "  <th>SO2</th>       <td>   -0.1076</td> <td>    0.002</td> <td>  -51.429</td> <td> 0.000</td> <td>   -0.112</td> <td>   -0.104</td>\n",
       "</tr>\n",
       "<tr>\n",
       "  <th>증기압(hPa)</th>  <td>    4.6132</td> <td>    0.005</td> <td>  937.235</td> <td> 0.000</td> <td>    4.604</td> <td>    4.623</td>\n",
       "</tr>\n",
       "<tr>\n",
       "  <th>시정(10m)</th>   <td>    0.0059</td> <td>    0.002</td> <td>    2.745</td> <td> 0.006</td> <td>    0.002</td> <td>    0.010</td>\n",
       "</tr>\n",
       "<tr>\n",
       "  <th>지면온도(°C)</th>  <td>    5.4486</td> <td>    0.005</td> <td> 1176.402</td> <td> 0.000</td> <td>    5.439</td> <td>    5.458</td>\n",
       "</tr>\n",
       "<tr>\n",
       "  <th>강수여부_0</th>    <td>   13.2820</td> <td>    0.002</td> <td> 6876.425</td> <td> 0.000</td> <td>   13.278</td> <td>   13.286</td>\n",
       "</tr>\n",
       "<tr>\n",
       "  <th>강수여부_1</th>    <td>   12.8749</td> <td>    0.008</td> <td> 1592.696</td> <td> 0.000</td> <td>   12.859</td> <td>   12.891</td>\n",
       "</tr>\n",
       "</table>\n",
       "<table class=\"simpletable\">\n",
       "<tr>\n",
       "  <th>Omnibus:</th>       <td>239363.563</td> <th>  Durbin-Watson:     </th>  <td>   0.218</td> \n",
       "</tr>\n",
       "<tr>\n",
       "  <th>Prob(Omnibus):</th>   <td> 0.000</td>   <th>  Jarque-Bera (JB):  </th> <td>673408.783</td>\n",
       "</tr>\n",
       "<tr>\n",
       "  <th>Skew:</th>            <td>-0.680</td>   <th>  Prob(JB):          </th>  <td>    0.00</td> \n",
       "</tr>\n",
       "<tr>\n",
       "  <th>Kurtosis:</th>        <td> 5.551</td>   <th>  Cond. No.          </th>  <td>    8.11</td> \n",
       "</tr>\n",
       "</table><br/><br/>Notes:<br/>[1] Standard Errors assume that the covariance matrix of the errors is correctly specified."
      ],
      "text/plain": [
       "<class 'statsmodels.iolib.summary.Summary'>\n",
       "\"\"\"\n",
       "                            OLS Regression Results                            \n",
       "==============================================================================\n",
       "Dep. Variable:                 기온(°C)   R-squared:                       0.934\n",
       "Model:                            OLS   Adj. R-squared:                  0.934\n",
       "Method:                 Least Squares   F-statistic:                 1.827e+06\n",
       "Date:                Tue, 28 Mar 2023   Prob (F-statistic):               0.00\n",
       "Time:                        22:51:27   Log-Likelihood:            -4.5835e+06\n",
       "No. Observations:             1933332   AIC:                         9.167e+06\n",
       "Df Residuals:                 1933316   BIC:                         9.167e+06\n",
       "Df Model:                          15                                         \n",
       "Covariance Type:            nonrobust                                         \n",
       "==============================================================================\n",
       "                 coef    std err          t      P>|t|      [0.025      0.975]\n",
       "------------------------------------------------------------------------------\n",
       "풍속(m/s)       -0.2164      0.002   -102.981      0.000      -0.221      -0.212\n",
       "습도(%)         -1.3063      0.003   -395.543      0.000      -1.313      -1.300\n",
       "현지기압(hPa)      0.2154      0.002     94.408      0.000       0.211       0.220\n",
       "해면기압(hPa)     -0.9565      0.003   -275.704      0.000      -0.963      -0.950\n",
       "일조(hr)        -0.3036      0.003   -113.308      0.000      -0.309      -0.298\n",
       "적설(cm)        -0.2676      0.002   -142.650      0.000      -0.271      -0.264\n",
       "PM10           0.1270      0.002     60.032      0.000       0.123       0.131\n",
       "O3             0.3936      0.003    147.655      0.000       0.388       0.399\n",
       "NO2            0.4988      0.003    186.366      0.000       0.494       0.504\n",
       "CO            -0.1307      0.002    -54.427      0.000      -0.135      -0.126\n",
       "SO2           -0.1076      0.002    -51.429      0.000      -0.112      -0.104\n",
       "증기압(hPa)       4.6132      0.005    937.235      0.000       4.604       4.623\n",
       "시정(10m)        0.0059      0.002      2.745      0.006       0.002       0.010\n",
       "지면온도(°C)       5.4486      0.005   1176.402      0.000       5.439       5.458\n",
       "강수여부_0        13.2820      0.002   6876.425      0.000      13.278      13.286\n",
       "강수여부_1        12.8749      0.008   1592.696      0.000      12.859      12.891\n",
       "==============================================================================\n",
       "Omnibus:                   239363.563   Durbin-Watson:                   0.218\n",
       "Prob(Omnibus):                  0.000   Jarque-Bera (JB):           673408.783\n",
       "Skew:                          -0.680   Prob(JB):                         0.00\n",
       "Kurtosis:                       5.551   Cond. No.                         8.11\n",
       "==============================================================================\n",
       "\n",
       "Notes:\n",
       "[1] Standard Errors assume that the covariance matrix of the errors is correctly specified.\n",
       "\"\"\""
      ]
     },
     "execution_count": 61,
     "metadata": {},
     "output_type": "execute_result"
    }
   ],
   "source": [
    "model = sm.OLS(y, X_scaled)\n",
    "result = model.fit()\n",
    "result.summary()"
   ]
  },
  {
   "cell_type": "code",
   "execution_count": 62,
   "id": "5158d1ea",
   "metadata": {},
   "outputs": [
    {
     "name": "stdout",
     "output_type": "stream",
     "text": [
      "(1391998, 16) (386667, 16) (154667, 16)\n"
     ]
    }
   ],
   "source": [
    "X_train, X_test, y_train, y_test=train_test_split(X_scaled, y, test_size=0.2, random_state=0)\n",
    "X_train, X_val, y_train, y_val=train_test_split(X_train, y_train, test_size=0.1, random_state=0)\n",
    "print(X_train.shape, X_test.shape, X_val.shape)"
   ]
  },
  {
   "cell_type": "code",
   "execution_count": 63,
   "id": "40be688a",
   "metadata": {},
   "outputs": [
    {
     "name": "stdout",
     "output_type": "stream",
     "text": [
      "Wall time: 932 ms\n"
     ]
    },
    {
     "data": {
      "text/plain": [
       "2.588573861396947"
      ]
     },
     "execution_count": 63,
     "metadata": {},
     "output_type": "execute_result"
    }
   ],
   "source": [
    "%%time\n",
    "lin_reg = LinearRegression()\n",
    "model_lin = lin_reg.fit(X_train, y_train)\n",
    "y_pred = lin_reg.predict(X_test)\n",
    "rms = np.sqrt(mean_squared_error(y_test, y_pred))\n",
    "rms"
   ]
  },
  {
   "cell_type": "code",
   "execution_count": 72,
   "id": "73181d0e",
   "metadata": {},
   "outputs": [
    {
     "name": "stdout",
     "output_type": "stream",
     "text": [
      "훈련용: 0.9341058319370741\n",
      "검증용: 0.9340888232034034\n",
      "예측용: 0.9341859721383922\n"
     ]
    }
   ],
   "source": [
    "print('훈련용:',model_lin.score(X_train, y_train))\n",
    "print('검증용:',model_lin.score(X_test, y_test))\n",
    "print('예측용:',model_lin.score(X_val, y_val))"
   ]
  },
  {
   "cell_type": "code",
   "execution_count": 65,
   "id": "dc10b327",
   "metadata": {},
   "outputs": [
    {
     "name": "stdout",
     "output_type": "stream",
     "text": [
      "Wall time: 13.2 s\n"
     ]
    },
    {
     "data": {
      "text/plain": [
       "1.1453323535329565"
      ]
     },
     "execution_count": 65,
     "metadata": {},
     "output_type": "execute_result"
    }
   ],
   "source": [
    "%%time\n",
    "# 결정나무모델\n",
    "tree_reg = DecisionTreeRegressor(criterion = 'squared_error', \n",
    "                                 splitter='best',\n",
    "                                 max_depth=14,\n",
    "                                 min_samples_leaf=10,\n",
    "                                 random_state=0)\n",
    "model_tree = tree_reg.fit(X_train, y_train)\n",
    "y_pred = tree_reg.predict(X_test)\n",
    "rms = np.sqrt(mean_squared_error(y_test, y_pred))\n",
    "rms"
   ]
  },
  {
   "cell_type": "code",
   "execution_count": 73,
   "id": "91c1bd62",
   "metadata": {},
   "outputs": [
    {
     "name": "stdout",
     "output_type": "stream",
     "text": [
      "훈련용: 0.9884563161569282\n",
      "검증용: 0.9870966938828492\n",
      "예측용: 0.9871728312294105\n"
     ]
    }
   ],
   "source": [
    "print('훈련용:',model_tree.score(X_train, y_train))\n",
    "print('검증용:',model_tree.score(X_test, y_test))\n",
    "print('예측용:',model_tree.score(X_val, y_val))"
   ]
  },
  {
   "cell_type": "code",
   "execution_count": 67,
   "id": "72aa0742",
   "metadata": {},
   "outputs": [
    {
     "name": "stdout",
     "output_type": "stream",
     "text": [
      "Wall time: 10min\n"
     ]
    },
    {
     "data": {
      "text/plain": [
       "0.9814109871679801"
      ]
     },
     "execution_count": 67,
     "metadata": {},
     "output_type": "execute_result"
    }
   ],
   "source": [
    "%%time\n",
    "# 랜덤포레스트\n",
    "forest_reg=RandomForestRegressor(random_state=0, n_jobs=-1) #CPU full 사용\n",
    "model_forest = forest_reg.fit(X_train, y_train)\n",
    "y_pred=forest_reg.predict(X_test)\n",
    "rms=np.sqrt(mean_squared_error(y_test, y_pred))\n",
    "rms"
   ]
  },
  {
   "cell_type": "code",
   "execution_count": 68,
   "id": "1d679c93",
   "metadata": {},
   "outputs": [
    {
     "name": "stdout",
     "output_type": "stream",
     "text": [
      "훈련용: 0.9986670825705177\n",
      "검증용: 0.9905258605204281\n"
     ]
    },
    {
     "ename": "KeyboardInterrupt",
     "evalue": "",
     "output_type": "error",
     "traceback": [
      "\u001b[1;31m---------------------------------------------------------------------------\u001b[0m",
      "\u001b[1;31mKeyboardInterrupt\u001b[0m                         Traceback (most recent call last)",
      "\u001b[1;32m~\\AppData\\Local\\Temp\\ipykernel_14064\\2635489561.py\u001b[0m in \u001b[0;36m<module>\u001b[1;34m\u001b[0m\n\u001b[0;32m      1\u001b[0m \u001b[0mprint\u001b[0m\u001b[1;33m(\u001b[0m\u001b[1;34m'훈련용:'\u001b[0m\u001b[1;33m,\u001b[0m\u001b[0mmodel_forest\u001b[0m\u001b[1;33m.\u001b[0m\u001b[0mscore\u001b[0m\u001b[1;33m(\u001b[0m\u001b[0mX_train\u001b[0m\u001b[1;33m,\u001b[0m \u001b[0my_train\u001b[0m\u001b[1;33m)\u001b[0m\u001b[1;33m)\u001b[0m\u001b[1;33m\u001b[0m\u001b[1;33m\u001b[0m\u001b[0m\n\u001b[0;32m      2\u001b[0m \u001b[0mprint\u001b[0m\u001b[1;33m(\u001b[0m\u001b[1;34m'검증용:'\u001b[0m\u001b[1;33m,\u001b[0m\u001b[0mmodel_forest\u001b[0m\u001b[1;33m.\u001b[0m\u001b[0mscore\u001b[0m\u001b[1;33m(\u001b[0m\u001b[0mX_test\u001b[0m\u001b[1;33m,\u001b[0m \u001b[0my_test\u001b[0m\u001b[1;33m)\u001b[0m\u001b[1;33m)\u001b[0m\u001b[1;33m\u001b[0m\u001b[1;33m\u001b[0m\u001b[0m\n\u001b[1;32m----> 3\u001b[1;33m \u001b[0mprint\u001b[0m\u001b[1;33m(\u001b[0m\u001b[1;34m'예측용:'\u001b[0m\u001b[1;33m,\u001b[0m\u001b[0mmodel_forest\u001b[0m\u001b[1;33m.\u001b[0m\u001b[0mscore\u001b[0m\u001b[1;33m(\u001b[0m\u001b[0mX_val\u001b[0m\u001b[1;33m,\u001b[0m \u001b[0my_val\u001b[0m\u001b[1;33m)\u001b[0m\u001b[1;33m)\u001b[0m\u001b[1;33m\u001b[0m\u001b[1;33m\u001b[0m\u001b[0m\n\u001b[0m",
      "\u001b[1;32m~\\anaconda3\\lib\\site-packages\\sklearn\\base.py\u001b[0m in \u001b[0;36mscore\u001b[1;34m(self, X, y, sample_weight)\u001b[0m\n\u001b[0;32m    703\u001b[0m         \u001b[1;32mfrom\u001b[0m \u001b[1;33m.\u001b[0m\u001b[0mmetrics\u001b[0m \u001b[1;32mimport\u001b[0m \u001b[0mr2_score\u001b[0m\u001b[1;33m\u001b[0m\u001b[1;33m\u001b[0m\u001b[0m\n\u001b[0;32m    704\u001b[0m \u001b[1;33m\u001b[0m\u001b[0m\n\u001b[1;32m--> 705\u001b[1;33m         \u001b[0my_pred\u001b[0m \u001b[1;33m=\u001b[0m \u001b[0mself\u001b[0m\u001b[1;33m.\u001b[0m\u001b[0mpredict\u001b[0m\u001b[1;33m(\u001b[0m\u001b[0mX\u001b[0m\u001b[1;33m)\u001b[0m\u001b[1;33m\u001b[0m\u001b[1;33m\u001b[0m\u001b[0m\n\u001b[0m\u001b[0;32m    706\u001b[0m         \u001b[1;32mreturn\u001b[0m \u001b[0mr2_score\u001b[0m\u001b[1;33m(\u001b[0m\u001b[0my\u001b[0m\u001b[1;33m,\u001b[0m \u001b[0my_pred\u001b[0m\u001b[1;33m,\u001b[0m \u001b[0msample_weight\u001b[0m\u001b[1;33m=\u001b[0m\u001b[0msample_weight\u001b[0m\u001b[1;33m)\u001b[0m\u001b[1;33m\u001b[0m\u001b[1;33m\u001b[0m\u001b[0m\n\u001b[0;32m    707\u001b[0m \u001b[1;33m\u001b[0m\u001b[0m\n",
      "\u001b[1;32m~\\anaconda3\\lib\\site-packages\\sklearn\\ensemble\\_forest.py\u001b[0m in \u001b[0;36mpredict\u001b[1;34m(self, X)\u001b[0m\n\u001b[0;32m    982\u001b[0m         \u001b[1;31m# Parallel loop\u001b[0m\u001b[1;33m\u001b[0m\u001b[1;33m\u001b[0m\u001b[0m\n\u001b[0;32m    983\u001b[0m         \u001b[0mlock\u001b[0m \u001b[1;33m=\u001b[0m \u001b[0mthreading\u001b[0m\u001b[1;33m.\u001b[0m\u001b[0mLock\u001b[0m\u001b[1;33m(\u001b[0m\u001b[1;33m)\u001b[0m\u001b[1;33m\u001b[0m\u001b[1;33m\u001b[0m\u001b[0m\n\u001b[1;32m--> 984\u001b[1;33m         Parallel(\n\u001b[0m\u001b[0;32m    985\u001b[0m             \u001b[0mn_jobs\u001b[0m\u001b[1;33m=\u001b[0m\u001b[0mn_jobs\u001b[0m\u001b[1;33m,\u001b[0m\u001b[1;33m\u001b[0m\u001b[1;33m\u001b[0m\u001b[0m\n\u001b[0;32m    986\u001b[0m             \u001b[0mverbose\u001b[0m\u001b[1;33m=\u001b[0m\u001b[0mself\u001b[0m\u001b[1;33m.\u001b[0m\u001b[0mverbose\u001b[0m\u001b[1;33m,\u001b[0m\u001b[1;33m\u001b[0m\u001b[1;33m\u001b[0m\u001b[0m\n",
      "\u001b[1;32m~\\anaconda3\\lib\\site-packages\\joblib\\parallel.py\u001b[0m in \u001b[0;36m__call__\u001b[1;34m(self, iterable)\u001b[0m\n\u001b[0;32m   1054\u001b[0m \u001b[1;33m\u001b[0m\u001b[0m\n\u001b[0;32m   1055\u001b[0m             \u001b[1;32mwith\u001b[0m \u001b[0mself\u001b[0m\u001b[1;33m.\u001b[0m\u001b[0m_backend\u001b[0m\u001b[1;33m.\u001b[0m\u001b[0mretrieval_context\u001b[0m\u001b[1;33m(\u001b[0m\u001b[1;33m)\u001b[0m\u001b[1;33m:\u001b[0m\u001b[1;33m\u001b[0m\u001b[1;33m\u001b[0m\u001b[0m\n\u001b[1;32m-> 1056\u001b[1;33m                 \u001b[0mself\u001b[0m\u001b[1;33m.\u001b[0m\u001b[0mretrieve\u001b[0m\u001b[1;33m(\u001b[0m\u001b[1;33m)\u001b[0m\u001b[1;33m\u001b[0m\u001b[1;33m\u001b[0m\u001b[0m\n\u001b[0m\u001b[0;32m   1057\u001b[0m             \u001b[1;31m# Make sure that we get a last message telling us we are done\u001b[0m\u001b[1;33m\u001b[0m\u001b[1;33m\u001b[0m\u001b[0m\n\u001b[0;32m   1058\u001b[0m             \u001b[0melapsed_time\u001b[0m \u001b[1;33m=\u001b[0m \u001b[0mtime\u001b[0m\u001b[1;33m.\u001b[0m\u001b[0mtime\u001b[0m\u001b[1;33m(\u001b[0m\u001b[1;33m)\u001b[0m \u001b[1;33m-\u001b[0m \u001b[0mself\u001b[0m\u001b[1;33m.\u001b[0m\u001b[0m_start_time\u001b[0m\u001b[1;33m\u001b[0m\u001b[1;33m\u001b[0m\u001b[0m\n",
      "\u001b[1;32m~\\anaconda3\\lib\\site-packages\\joblib\\parallel.py\u001b[0m in \u001b[0;36mretrieve\u001b[1;34m(self)\u001b[0m\n\u001b[0;32m    933\u001b[0m             \u001b[1;32mtry\u001b[0m\u001b[1;33m:\u001b[0m\u001b[1;33m\u001b[0m\u001b[1;33m\u001b[0m\u001b[0m\n\u001b[0;32m    934\u001b[0m                 \u001b[1;32mif\u001b[0m \u001b[0mgetattr\u001b[0m\u001b[1;33m(\u001b[0m\u001b[0mself\u001b[0m\u001b[1;33m.\u001b[0m\u001b[0m_backend\u001b[0m\u001b[1;33m,\u001b[0m \u001b[1;34m'supports_timeout'\u001b[0m\u001b[1;33m,\u001b[0m \u001b[1;32mFalse\u001b[0m\u001b[1;33m)\u001b[0m\u001b[1;33m:\u001b[0m\u001b[1;33m\u001b[0m\u001b[1;33m\u001b[0m\u001b[0m\n\u001b[1;32m--> 935\u001b[1;33m                     \u001b[0mself\u001b[0m\u001b[1;33m.\u001b[0m\u001b[0m_output\u001b[0m\u001b[1;33m.\u001b[0m\u001b[0mextend\u001b[0m\u001b[1;33m(\u001b[0m\u001b[0mjob\u001b[0m\u001b[1;33m.\u001b[0m\u001b[0mget\u001b[0m\u001b[1;33m(\u001b[0m\u001b[0mtimeout\u001b[0m\u001b[1;33m=\u001b[0m\u001b[0mself\u001b[0m\u001b[1;33m.\u001b[0m\u001b[0mtimeout\u001b[0m\u001b[1;33m)\u001b[0m\u001b[1;33m)\u001b[0m\u001b[1;33m\u001b[0m\u001b[1;33m\u001b[0m\u001b[0m\n\u001b[0m\u001b[0;32m    936\u001b[0m                 \u001b[1;32melse\u001b[0m\u001b[1;33m:\u001b[0m\u001b[1;33m\u001b[0m\u001b[1;33m\u001b[0m\u001b[0m\n\u001b[0;32m    937\u001b[0m                     \u001b[0mself\u001b[0m\u001b[1;33m.\u001b[0m\u001b[0m_output\u001b[0m\u001b[1;33m.\u001b[0m\u001b[0mextend\u001b[0m\u001b[1;33m(\u001b[0m\u001b[0mjob\u001b[0m\u001b[1;33m.\u001b[0m\u001b[0mget\u001b[0m\u001b[1;33m(\u001b[0m\u001b[1;33m)\u001b[0m\u001b[1;33m)\u001b[0m\u001b[1;33m\u001b[0m\u001b[1;33m\u001b[0m\u001b[0m\n",
      "\u001b[1;32m~\\anaconda3\\lib\\multiprocessing\\pool.py\u001b[0m in \u001b[0;36mget\u001b[1;34m(self, timeout)\u001b[0m\n\u001b[0;32m    763\u001b[0m \u001b[1;33m\u001b[0m\u001b[0m\n\u001b[0;32m    764\u001b[0m     \u001b[1;32mdef\u001b[0m \u001b[0mget\u001b[0m\u001b[1;33m(\u001b[0m\u001b[0mself\u001b[0m\u001b[1;33m,\u001b[0m \u001b[0mtimeout\u001b[0m\u001b[1;33m=\u001b[0m\u001b[1;32mNone\u001b[0m\u001b[1;33m)\u001b[0m\u001b[1;33m:\u001b[0m\u001b[1;33m\u001b[0m\u001b[1;33m\u001b[0m\u001b[0m\n\u001b[1;32m--> 765\u001b[1;33m         \u001b[0mself\u001b[0m\u001b[1;33m.\u001b[0m\u001b[0mwait\u001b[0m\u001b[1;33m(\u001b[0m\u001b[0mtimeout\u001b[0m\u001b[1;33m)\u001b[0m\u001b[1;33m\u001b[0m\u001b[1;33m\u001b[0m\u001b[0m\n\u001b[0m\u001b[0;32m    766\u001b[0m         \u001b[1;32mif\u001b[0m \u001b[1;32mnot\u001b[0m \u001b[0mself\u001b[0m\u001b[1;33m.\u001b[0m\u001b[0mready\u001b[0m\u001b[1;33m(\u001b[0m\u001b[1;33m)\u001b[0m\u001b[1;33m:\u001b[0m\u001b[1;33m\u001b[0m\u001b[1;33m\u001b[0m\u001b[0m\n\u001b[0;32m    767\u001b[0m             \u001b[1;32mraise\u001b[0m \u001b[0mTimeoutError\u001b[0m\u001b[1;33m\u001b[0m\u001b[1;33m\u001b[0m\u001b[0m\n",
      "\u001b[1;32m~\\anaconda3\\lib\\multiprocessing\\pool.py\u001b[0m in \u001b[0;36mwait\u001b[1;34m(self, timeout)\u001b[0m\n\u001b[0;32m    760\u001b[0m \u001b[1;33m\u001b[0m\u001b[0m\n\u001b[0;32m    761\u001b[0m     \u001b[1;32mdef\u001b[0m \u001b[0mwait\u001b[0m\u001b[1;33m(\u001b[0m\u001b[0mself\u001b[0m\u001b[1;33m,\u001b[0m \u001b[0mtimeout\u001b[0m\u001b[1;33m=\u001b[0m\u001b[1;32mNone\u001b[0m\u001b[1;33m)\u001b[0m\u001b[1;33m:\u001b[0m\u001b[1;33m\u001b[0m\u001b[1;33m\u001b[0m\u001b[0m\n\u001b[1;32m--> 762\u001b[1;33m         \u001b[0mself\u001b[0m\u001b[1;33m.\u001b[0m\u001b[0m_event\u001b[0m\u001b[1;33m.\u001b[0m\u001b[0mwait\u001b[0m\u001b[1;33m(\u001b[0m\u001b[0mtimeout\u001b[0m\u001b[1;33m)\u001b[0m\u001b[1;33m\u001b[0m\u001b[1;33m\u001b[0m\u001b[0m\n\u001b[0m\u001b[0;32m    763\u001b[0m \u001b[1;33m\u001b[0m\u001b[0m\n\u001b[0;32m    764\u001b[0m     \u001b[1;32mdef\u001b[0m \u001b[0mget\u001b[0m\u001b[1;33m(\u001b[0m\u001b[0mself\u001b[0m\u001b[1;33m,\u001b[0m \u001b[0mtimeout\u001b[0m\u001b[1;33m=\u001b[0m\u001b[1;32mNone\u001b[0m\u001b[1;33m)\u001b[0m\u001b[1;33m:\u001b[0m\u001b[1;33m\u001b[0m\u001b[1;33m\u001b[0m\u001b[0m\n",
      "\u001b[1;32m~\\anaconda3\\lib\\threading.py\u001b[0m in \u001b[0;36mwait\u001b[1;34m(self, timeout)\u001b[0m\n\u001b[0;32m    579\u001b[0m             \u001b[0msignaled\u001b[0m \u001b[1;33m=\u001b[0m \u001b[0mself\u001b[0m\u001b[1;33m.\u001b[0m\u001b[0m_flag\u001b[0m\u001b[1;33m\u001b[0m\u001b[1;33m\u001b[0m\u001b[0m\n\u001b[0;32m    580\u001b[0m             \u001b[1;32mif\u001b[0m \u001b[1;32mnot\u001b[0m \u001b[0msignaled\u001b[0m\u001b[1;33m:\u001b[0m\u001b[1;33m\u001b[0m\u001b[1;33m\u001b[0m\u001b[0m\n\u001b[1;32m--> 581\u001b[1;33m                 \u001b[0msignaled\u001b[0m \u001b[1;33m=\u001b[0m \u001b[0mself\u001b[0m\u001b[1;33m.\u001b[0m\u001b[0m_cond\u001b[0m\u001b[1;33m.\u001b[0m\u001b[0mwait\u001b[0m\u001b[1;33m(\u001b[0m\u001b[0mtimeout\u001b[0m\u001b[1;33m)\u001b[0m\u001b[1;33m\u001b[0m\u001b[1;33m\u001b[0m\u001b[0m\n\u001b[0m\u001b[0;32m    582\u001b[0m             \u001b[1;32mreturn\u001b[0m \u001b[0msignaled\u001b[0m\u001b[1;33m\u001b[0m\u001b[1;33m\u001b[0m\u001b[0m\n\u001b[0;32m    583\u001b[0m \u001b[1;33m\u001b[0m\u001b[0m\n",
      "\u001b[1;32m~\\anaconda3\\lib\\threading.py\u001b[0m in \u001b[0;36mwait\u001b[1;34m(self, timeout)\u001b[0m\n\u001b[0;32m    310\u001b[0m         \u001b[1;32mtry\u001b[0m\u001b[1;33m:\u001b[0m    \u001b[1;31m# restore state no matter what (e.g., KeyboardInterrupt)\u001b[0m\u001b[1;33m\u001b[0m\u001b[1;33m\u001b[0m\u001b[0m\n\u001b[0;32m    311\u001b[0m             \u001b[1;32mif\u001b[0m \u001b[0mtimeout\u001b[0m \u001b[1;32mis\u001b[0m \u001b[1;32mNone\u001b[0m\u001b[1;33m:\u001b[0m\u001b[1;33m\u001b[0m\u001b[1;33m\u001b[0m\u001b[0m\n\u001b[1;32m--> 312\u001b[1;33m                 \u001b[0mwaiter\u001b[0m\u001b[1;33m.\u001b[0m\u001b[0macquire\u001b[0m\u001b[1;33m(\u001b[0m\u001b[1;33m)\u001b[0m\u001b[1;33m\u001b[0m\u001b[1;33m\u001b[0m\u001b[0m\n\u001b[0m\u001b[0;32m    313\u001b[0m                 \u001b[0mgotit\u001b[0m \u001b[1;33m=\u001b[0m \u001b[1;32mTrue\u001b[0m\u001b[1;33m\u001b[0m\u001b[1;33m\u001b[0m\u001b[0m\n\u001b[0;32m    314\u001b[0m             \u001b[1;32melse\u001b[0m\u001b[1;33m:\u001b[0m\u001b[1;33m\u001b[0m\u001b[1;33m\u001b[0m\u001b[0m\n",
      "\u001b[1;31mKeyboardInterrupt\u001b[0m: "
     ]
    }
   ],
   "source": [
    "print('훈련용:',model_forest.score(X_train, y_train))\n",
    "print('검증용:',model_forest.score(X_test, y_test))\n",
    "print('예측용:',model_forest.score(X_val, y_val))"
   ]
  },
  {
   "cell_type": "code",
   "execution_count": 135,
   "id": "ed15e292",
   "metadata": {},
   "outputs": [
    {
     "data": {
      "text/html": [
       "<div>\n",
       "<style scoped>\n",
       "    .dataframe tbody tr th:only-of-type {\n",
       "        vertical-align: middle;\n",
       "    }\n",
       "\n",
       "    .dataframe tbody tr th {\n",
       "        vertical-align: top;\n",
       "    }\n",
       "\n",
       "    .dataframe thead th {\n",
       "        text-align: right;\n",
       "    }\n",
       "</style>\n",
       "<table border=\"1\" class=\"dataframe\">\n",
       "  <thead>\n",
       "    <tr style=\"text-align: right;\">\n",
       "      <th></th>\n",
       "      <th>0</th>\n",
       "      <th>1</th>\n",
       "      <th>2</th>\n",
       "      <th>3</th>\n",
       "      <th>4</th>\n",
       "      <th>5</th>\n",
       "      <th>6</th>\n",
       "      <th>7</th>\n",
       "      <th>8</th>\n",
       "      <th>9</th>\n",
       "      <th>...</th>\n",
       "      <th>154657</th>\n",
       "      <th>154658</th>\n",
       "      <th>154659</th>\n",
       "      <th>154660</th>\n",
       "      <th>154661</th>\n",
       "      <th>154662</th>\n",
       "      <th>154663</th>\n",
       "      <th>154664</th>\n",
       "      <th>154665</th>\n",
       "      <th>154666</th>\n",
       "    </tr>\n",
       "  </thead>\n",
       "  <tbody>\n",
       "    <tr>\n",
       "      <th>0</th>\n",
       "      <td>17.200</td>\n",
       "      <td>8.400</td>\n",
       "      <td>26.300</td>\n",
       "      <td>4.900</td>\n",
       "      <td>9.900</td>\n",
       "      <td>-7.700</td>\n",
       "      <td>20.200</td>\n",
       "      <td>7.700</td>\n",
       "      <td>7.200</td>\n",
       "      <td>2.600</td>\n",
       "      <td>...</td>\n",
       "      <td>20.700</td>\n",
       "      <td>21.200</td>\n",
       "      <td>-13.100</td>\n",
       "      <td>19.600</td>\n",
       "      <td>6.400</td>\n",
       "      <td>2.400</td>\n",
       "      <td>5.800</td>\n",
       "      <td>18.200</td>\n",
       "      <td>4.6</td>\n",
       "      <td>26.400</td>\n",
       "    </tr>\n",
       "    <tr>\n",
       "      <th>1</th>\n",
       "      <td>12.638</td>\n",
       "      <td>6.388</td>\n",
       "      <td>24.499</td>\n",
       "      <td>5.192</td>\n",
       "      <td>9.916</td>\n",
       "      <td>-5.156</td>\n",
       "      <td>19.564</td>\n",
       "      <td>7.223</td>\n",
       "      <td>8.246</td>\n",
       "      <td>5.646</td>\n",
       "      <td>...</td>\n",
       "      <td>22.172</td>\n",
       "      <td>26.637</td>\n",
       "      <td>-10.087</td>\n",
       "      <td>14.378</td>\n",
       "      <td>9.618</td>\n",
       "      <td>1.785</td>\n",
       "      <td>4.069</td>\n",
       "      <td>19.653</td>\n",
       "      <td>3.4</td>\n",
       "      <td>27.244</td>\n",
       "    </tr>\n",
       "  </tbody>\n",
       "</table>\n",
       "<p>2 rows × 154667 columns</p>\n",
       "</div>"
      ],
      "text/plain": [
       "   0       1       2       3       4       5       6       7       8       \\\n",
       "0  17.200   8.400  26.300   4.900   9.900  -7.700  20.200   7.700   7.200   \n",
       "1  12.638   6.388  24.499   5.192   9.916  -5.156  19.564   7.223   8.246   \n",
       "\n",
       "   9       ...  154657  154658  154659  154660  154661  154662  154663  \\\n",
       "0   2.600  ...  20.700  21.200 -13.100  19.600   6.400   2.400   5.800   \n",
       "1   5.646  ...  22.172  26.637 -10.087  14.378   9.618   1.785   4.069   \n",
       "\n",
       "   154664  154665  154666  \n",
       "0  18.200     4.6  26.400  \n",
       "1  19.653     3.4  27.244  \n",
       "\n",
       "[2 rows x 154667 columns]"
      ]
     },
     "execution_count": 135,
     "metadata": {},
     "output_type": "execute_result"
    }
   ],
   "source": [
    "pd.DataFrame([np.array(y_val), model_forest.predict(X_val)])"
   ]
  },
  {
   "cell_type": "code",
   "execution_count": 71,
   "id": "3dd4db51",
   "metadata": {},
   "outputs": [
    {
     "name": "stderr",
     "output_type": "stream",
     "text": [
      "C:\\Users\\songh\\anaconda3\\lib\\site-packages\\joblib\\externals\\loky\\process_executor.py:702: UserWarning: A worker stopped while some jobs were given to the executor. This can be caused by a too short worker timeout or by a memory leak.\n",
      "  warnings.warn(\n"
     ]
    },
    {
     "ename": "MemoryError",
     "evalue": "Unable to allocate 8.50 MiB for an array with shape (1113599,) and data type int64",
     "output_type": "error",
     "traceback": [
      "\u001b[1;31m---------------------------------------------------------------------------\u001b[0m",
      "\u001b[1;31m_RemoteTraceback\u001b[0m                          Traceback (most recent call last)",
      "\u001b[1;31m_RemoteTraceback\u001b[0m: \n\"\"\"\nTraceback (most recent call last):\n  File \"C:\\Users\\songh\\anaconda3\\lib\\site-packages\\joblib\\externals\\loky\\process_executor.py\", line 436, in _process_worker\n    r = call_item()\n  File \"C:\\Users\\songh\\anaconda3\\lib\\site-packages\\joblib\\externals\\loky\\process_executor.py\", line 288, in __call__\n    return self.fn(*self.args, **self.kwargs)\n  File \"C:\\Users\\songh\\anaconda3\\lib\\site-packages\\joblib\\_parallel_backends.py\", line 595, in __call__\n    return self.func(*args, **kwargs)\n  File \"C:\\Users\\songh\\anaconda3\\lib\\site-packages\\joblib\\parallel.py\", line 262, in __call__\n    return [func(*args, **kwargs)\n  File \"C:\\Users\\songh\\anaconda3\\lib\\site-packages\\joblib\\parallel.py\", line 262, in <listcomp>\n    return [func(*args, **kwargs)\n  File \"C:\\Users\\songh\\anaconda3\\lib\\site-packages\\sklearn\\utils\\fixes.py\", line 216, in __call__\n    return self.function(*args, **kwargs)\n  File \"C:\\Users\\songh\\anaconda3\\lib\\site-packages\\sklearn\\model_selection\\_validation.py\", line 672, in _fit_and_score\n    X_train, y_train = _safe_split(estimator, X, y, train)\n  File \"C:\\Users\\songh\\anaconda3\\lib\\site-packages\\sklearn\\utils\\metaestimators.py\", line 291, in _safe_split\n    y_subset = _safe_indexing(y, indices)\n  File \"C:\\Users\\songh\\anaconda3\\lib\\site-packages\\sklearn\\utils\\__init__.py\", line 376, in _safe_indexing\n    return _pandas_indexing(X, indices, indices_dtype, axis=axis)\n  File \"C:\\Users\\songh\\anaconda3\\lib\\site-packages\\sklearn\\utils\\__init__.py\", line 218, in _pandas_indexing\n    return X.take(key, axis=axis)\n  File \"C:\\Users\\songh\\anaconda3\\lib\\site-packages\\pandas\\core\\series.py\", line 907, in take\n    new_index = self.index.take(indices)\n  File \"C:\\Users\\songh\\anaconda3\\lib\\site-packages\\pandas\\core\\indexes\\base.py\", line 1121, in take\n    taken = algos.take(\n  File \"C:\\Users\\songh\\anaconda3\\lib\\site-packages\\pandas\\core\\algorithms.py\", line 1449, in take\n    result = arr.take(indices, axis=axis)\nnumpy.core._exceptions._ArrayMemoryError: Unable to allocate 8.50 MiB for an array with shape (1113599,) and data type int64\n\"\"\"",
      "\nThe above exception was the direct cause of the following exception:\n",
      "\u001b[1;31mMemoryError\u001b[0m                               Traceback (most recent call last)",
      "\u001b[1;32m<timed exec>\u001b[0m in \u001b[0;36m<module>\u001b[1;34m\u001b[0m\n",
      "\u001b[1;32m~\\anaconda3\\lib\\site-packages\\sklearn\\model_selection\\_search.py\u001b[0m in \u001b[0;36mfit\u001b[1;34m(self, X, y, groups, **fit_params)\u001b[0m\n\u001b[0;32m    889\u001b[0m                 \u001b[1;32mreturn\u001b[0m \u001b[0mresults\u001b[0m\u001b[1;33m\u001b[0m\u001b[1;33m\u001b[0m\u001b[0m\n\u001b[0;32m    890\u001b[0m \u001b[1;33m\u001b[0m\u001b[0m\n\u001b[1;32m--> 891\u001b[1;33m             \u001b[0mself\u001b[0m\u001b[1;33m.\u001b[0m\u001b[0m_run_search\u001b[0m\u001b[1;33m(\u001b[0m\u001b[0mevaluate_candidates\u001b[0m\u001b[1;33m)\u001b[0m\u001b[1;33m\u001b[0m\u001b[1;33m\u001b[0m\u001b[0m\n\u001b[0m\u001b[0;32m    892\u001b[0m \u001b[1;33m\u001b[0m\u001b[0m\n\u001b[0;32m    893\u001b[0m             \u001b[1;31m# multimetric is determined here because in the case of a callable\u001b[0m\u001b[1;33m\u001b[0m\u001b[1;33m\u001b[0m\u001b[0m\n",
      "\u001b[1;32m~\\anaconda3\\lib\\site-packages\\sklearn\\model_selection\\_search.py\u001b[0m in \u001b[0;36m_run_search\u001b[1;34m(self, evaluate_candidates)\u001b[0m\n\u001b[0;32m   1764\u001b[0m     \u001b[1;32mdef\u001b[0m \u001b[0m_run_search\u001b[0m\u001b[1;33m(\u001b[0m\u001b[0mself\u001b[0m\u001b[1;33m,\u001b[0m \u001b[0mevaluate_candidates\u001b[0m\u001b[1;33m)\u001b[0m\u001b[1;33m:\u001b[0m\u001b[1;33m\u001b[0m\u001b[1;33m\u001b[0m\u001b[0m\n\u001b[0;32m   1765\u001b[0m         \u001b[1;34m\"\"\"Search n_iter candidates from param_distributions\"\"\"\u001b[0m\u001b[1;33m\u001b[0m\u001b[1;33m\u001b[0m\u001b[0m\n\u001b[1;32m-> 1766\u001b[1;33m         evaluate_candidates(\n\u001b[0m\u001b[0;32m   1767\u001b[0m             ParameterSampler(\n\u001b[0;32m   1768\u001b[0m                 \u001b[0mself\u001b[0m\u001b[1;33m.\u001b[0m\u001b[0mparam_distributions\u001b[0m\u001b[1;33m,\u001b[0m \u001b[0mself\u001b[0m\u001b[1;33m.\u001b[0m\u001b[0mn_iter\u001b[0m\u001b[1;33m,\u001b[0m \u001b[0mrandom_state\u001b[0m\u001b[1;33m=\u001b[0m\u001b[0mself\u001b[0m\u001b[1;33m.\u001b[0m\u001b[0mrandom_state\u001b[0m\u001b[1;33m\u001b[0m\u001b[1;33m\u001b[0m\u001b[0m\n",
      "\u001b[1;32m~\\anaconda3\\lib\\site-packages\\sklearn\\model_selection\\_search.py\u001b[0m in \u001b[0;36mevaluate_candidates\u001b[1;34m(candidate_params, cv, more_results)\u001b[0m\n\u001b[0;32m    836\u001b[0m                     )\n\u001b[0;32m    837\u001b[0m \u001b[1;33m\u001b[0m\u001b[0m\n\u001b[1;32m--> 838\u001b[1;33m                 out = parallel(\n\u001b[0m\u001b[0;32m    839\u001b[0m                     delayed(_fit_and_score)(\n\u001b[0;32m    840\u001b[0m                         \u001b[0mclone\u001b[0m\u001b[1;33m(\u001b[0m\u001b[0mbase_estimator\u001b[0m\u001b[1;33m)\u001b[0m\u001b[1;33m,\u001b[0m\u001b[1;33m\u001b[0m\u001b[1;33m\u001b[0m\u001b[0m\n",
      "\u001b[1;32m~\\anaconda3\\lib\\site-packages\\joblib\\parallel.py\u001b[0m in \u001b[0;36m__call__\u001b[1;34m(self, iterable)\u001b[0m\n\u001b[0;32m   1054\u001b[0m \u001b[1;33m\u001b[0m\u001b[0m\n\u001b[0;32m   1055\u001b[0m             \u001b[1;32mwith\u001b[0m \u001b[0mself\u001b[0m\u001b[1;33m.\u001b[0m\u001b[0m_backend\u001b[0m\u001b[1;33m.\u001b[0m\u001b[0mretrieval_context\u001b[0m\u001b[1;33m(\u001b[0m\u001b[1;33m)\u001b[0m\u001b[1;33m:\u001b[0m\u001b[1;33m\u001b[0m\u001b[1;33m\u001b[0m\u001b[0m\n\u001b[1;32m-> 1056\u001b[1;33m                 \u001b[0mself\u001b[0m\u001b[1;33m.\u001b[0m\u001b[0mretrieve\u001b[0m\u001b[1;33m(\u001b[0m\u001b[1;33m)\u001b[0m\u001b[1;33m\u001b[0m\u001b[1;33m\u001b[0m\u001b[0m\n\u001b[0m\u001b[0;32m   1057\u001b[0m             \u001b[1;31m# Make sure that we get a last message telling us we are done\u001b[0m\u001b[1;33m\u001b[0m\u001b[1;33m\u001b[0m\u001b[0m\n\u001b[0;32m   1058\u001b[0m             \u001b[0melapsed_time\u001b[0m \u001b[1;33m=\u001b[0m \u001b[0mtime\u001b[0m\u001b[1;33m.\u001b[0m\u001b[0mtime\u001b[0m\u001b[1;33m(\u001b[0m\u001b[1;33m)\u001b[0m \u001b[1;33m-\u001b[0m \u001b[0mself\u001b[0m\u001b[1;33m.\u001b[0m\u001b[0m_start_time\u001b[0m\u001b[1;33m\u001b[0m\u001b[1;33m\u001b[0m\u001b[0m\n",
      "\u001b[1;32m~\\anaconda3\\lib\\site-packages\\joblib\\parallel.py\u001b[0m in \u001b[0;36mretrieve\u001b[1;34m(self)\u001b[0m\n\u001b[0;32m    933\u001b[0m             \u001b[1;32mtry\u001b[0m\u001b[1;33m:\u001b[0m\u001b[1;33m\u001b[0m\u001b[1;33m\u001b[0m\u001b[0m\n\u001b[0;32m    934\u001b[0m                 \u001b[1;32mif\u001b[0m \u001b[0mgetattr\u001b[0m\u001b[1;33m(\u001b[0m\u001b[0mself\u001b[0m\u001b[1;33m.\u001b[0m\u001b[0m_backend\u001b[0m\u001b[1;33m,\u001b[0m \u001b[1;34m'supports_timeout'\u001b[0m\u001b[1;33m,\u001b[0m \u001b[1;32mFalse\u001b[0m\u001b[1;33m)\u001b[0m\u001b[1;33m:\u001b[0m\u001b[1;33m\u001b[0m\u001b[1;33m\u001b[0m\u001b[0m\n\u001b[1;32m--> 935\u001b[1;33m                     \u001b[0mself\u001b[0m\u001b[1;33m.\u001b[0m\u001b[0m_output\u001b[0m\u001b[1;33m.\u001b[0m\u001b[0mextend\u001b[0m\u001b[1;33m(\u001b[0m\u001b[0mjob\u001b[0m\u001b[1;33m.\u001b[0m\u001b[0mget\u001b[0m\u001b[1;33m(\u001b[0m\u001b[0mtimeout\u001b[0m\u001b[1;33m=\u001b[0m\u001b[0mself\u001b[0m\u001b[1;33m.\u001b[0m\u001b[0mtimeout\u001b[0m\u001b[1;33m)\u001b[0m\u001b[1;33m)\u001b[0m\u001b[1;33m\u001b[0m\u001b[1;33m\u001b[0m\u001b[0m\n\u001b[0m\u001b[0;32m    936\u001b[0m                 \u001b[1;32melse\u001b[0m\u001b[1;33m:\u001b[0m\u001b[1;33m\u001b[0m\u001b[1;33m\u001b[0m\u001b[0m\n\u001b[0;32m    937\u001b[0m                     \u001b[0mself\u001b[0m\u001b[1;33m.\u001b[0m\u001b[0m_output\u001b[0m\u001b[1;33m.\u001b[0m\u001b[0mextend\u001b[0m\u001b[1;33m(\u001b[0m\u001b[0mjob\u001b[0m\u001b[1;33m.\u001b[0m\u001b[0mget\u001b[0m\u001b[1;33m(\u001b[0m\u001b[1;33m)\u001b[0m\u001b[1;33m)\u001b[0m\u001b[1;33m\u001b[0m\u001b[1;33m\u001b[0m\u001b[0m\n",
      "\u001b[1;32m~\\anaconda3\\lib\\site-packages\\joblib\\_parallel_backends.py\u001b[0m in \u001b[0;36mwrap_future_result\u001b[1;34m(future, timeout)\u001b[0m\n\u001b[0;32m    540\u001b[0m         AsyncResults.get from multiprocessing.\"\"\"\n\u001b[0;32m    541\u001b[0m         \u001b[1;32mtry\u001b[0m\u001b[1;33m:\u001b[0m\u001b[1;33m\u001b[0m\u001b[1;33m\u001b[0m\u001b[0m\n\u001b[1;32m--> 542\u001b[1;33m             \u001b[1;32mreturn\u001b[0m \u001b[0mfuture\u001b[0m\u001b[1;33m.\u001b[0m\u001b[0mresult\u001b[0m\u001b[1;33m(\u001b[0m\u001b[0mtimeout\u001b[0m\u001b[1;33m=\u001b[0m\u001b[0mtimeout\u001b[0m\u001b[1;33m)\u001b[0m\u001b[1;33m\u001b[0m\u001b[1;33m\u001b[0m\u001b[0m\n\u001b[0m\u001b[0;32m    543\u001b[0m         \u001b[1;32mexcept\u001b[0m \u001b[0mCfTimeoutError\u001b[0m \u001b[1;32mas\u001b[0m \u001b[0me\u001b[0m\u001b[1;33m:\u001b[0m\u001b[1;33m\u001b[0m\u001b[1;33m\u001b[0m\u001b[0m\n\u001b[0;32m    544\u001b[0m             \u001b[1;32mraise\u001b[0m \u001b[0mTimeoutError\u001b[0m \u001b[1;32mfrom\u001b[0m \u001b[0me\u001b[0m\u001b[1;33m\u001b[0m\u001b[1;33m\u001b[0m\u001b[0m\n",
      "\u001b[1;32m~\\anaconda3\\lib\\concurrent\\futures\\_base.py\u001b[0m in \u001b[0;36mresult\u001b[1;34m(self, timeout)\u001b[0m\n\u001b[0;32m    437\u001b[0m                     \u001b[1;32mraise\u001b[0m \u001b[0mCancelledError\u001b[0m\u001b[1;33m(\u001b[0m\u001b[1;33m)\u001b[0m\u001b[1;33m\u001b[0m\u001b[1;33m\u001b[0m\u001b[0m\n\u001b[0;32m    438\u001b[0m                 \u001b[1;32melif\u001b[0m \u001b[0mself\u001b[0m\u001b[1;33m.\u001b[0m\u001b[0m_state\u001b[0m \u001b[1;33m==\u001b[0m \u001b[0mFINISHED\u001b[0m\u001b[1;33m:\u001b[0m\u001b[1;33m\u001b[0m\u001b[1;33m\u001b[0m\u001b[0m\n\u001b[1;32m--> 439\u001b[1;33m                     \u001b[1;32mreturn\u001b[0m \u001b[0mself\u001b[0m\u001b[1;33m.\u001b[0m\u001b[0m__get_result\u001b[0m\u001b[1;33m(\u001b[0m\u001b[1;33m)\u001b[0m\u001b[1;33m\u001b[0m\u001b[1;33m\u001b[0m\u001b[0m\n\u001b[0m\u001b[0;32m    440\u001b[0m \u001b[1;33m\u001b[0m\u001b[0m\n\u001b[0;32m    441\u001b[0m                 \u001b[0mself\u001b[0m\u001b[1;33m.\u001b[0m\u001b[0m_condition\u001b[0m\u001b[1;33m.\u001b[0m\u001b[0mwait\u001b[0m\u001b[1;33m(\u001b[0m\u001b[0mtimeout\u001b[0m\u001b[1;33m)\u001b[0m\u001b[1;33m\u001b[0m\u001b[1;33m\u001b[0m\u001b[0m\n",
      "\u001b[1;32m~\\anaconda3\\lib\\concurrent\\futures\\_base.py\u001b[0m in \u001b[0;36m__get_result\u001b[1;34m(self)\u001b[0m\n\u001b[0;32m    389\u001b[0m         \u001b[1;32mif\u001b[0m \u001b[0mself\u001b[0m\u001b[1;33m.\u001b[0m\u001b[0m_exception\u001b[0m\u001b[1;33m:\u001b[0m\u001b[1;33m\u001b[0m\u001b[1;33m\u001b[0m\u001b[0m\n\u001b[0;32m    390\u001b[0m             \u001b[1;32mtry\u001b[0m\u001b[1;33m:\u001b[0m\u001b[1;33m\u001b[0m\u001b[1;33m\u001b[0m\u001b[0m\n\u001b[1;32m--> 391\u001b[1;33m                 \u001b[1;32mraise\u001b[0m \u001b[0mself\u001b[0m\u001b[1;33m.\u001b[0m\u001b[0m_exception\u001b[0m\u001b[1;33m\u001b[0m\u001b[1;33m\u001b[0m\u001b[0m\n\u001b[0m\u001b[0;32m    392\u001b[0m             \u001b[1;32mfinally\u001b[0m\u001b[1;33m:\u001b[0m\u001b[1;33m\u001b[0m\u001b[1;33m\u001b[0m\u001b[0m\n\u001b[0;32m    393\u001b[0m                 \u001b[1;31m# Break a reference cycle with the exception in self._exception\u001b[0m\u001b[1;33m\u001b[0m\u001b[1;33m\u001b[0m\u001b[0m\n",
      "\u001b[1;31mMemoryError\u001b[0m: Unable to allocate 8.50 MiB for an array with shape (1113599,) and data type int64"
     ]
    }
   ],
   "source": [
    "%%time\n",
    "#RandomizedSearchCV() 최근에 많이 사용되고 있는 파라미터 최적화 함수\n",
    "#매개변수의 범위를 지정해주면 무작위로 매개변수를 조합하여 최적의 성능 측정\n",
    "from sklearn.model_selection import RandomizedSearchCV\n",
    "from scipy.stats import randint\n",
    "param_distribs={\n",
    " 'n_estimators': randint(low=1, high=100),\n",
    " 'max_features': randint(low=1, high=8),\n",
    " }\n",
    "rnd_search=RandomizedSearchCV(forest_reg, param_distributions=param_distribs, n_iter=50, cv=5, random_state=0, n_jobs=-1)\n",
    "rnd_search.fit(X_train, y_train)\n"
   ]
  },
  {
   "cell_type": "code",
   "execution_count": 40,
   "id": "1dcd5a7f",
   "metadata": {},
   "outputs": [
    {
     "ename": "AttributeError",
     "evalue": "'RandomizedSearchCV' object has no attribute 'cv_results_'",
     "output_type": "error",
     "traceback": [
      "\u001b[1;31m---------------------------------------------------------------------------\u001b[0m",
      "\u001b[1;31mAttributeError\u001b[0m                            Traceback (most recent call last)",
      "Cell \u001b[1;32mIn[40], line 1\u001b[0m\n\u001b[1;32m----> 1\u001b[0m cvres\u001b[38;5;241m=\u001b[39m\u001b[43mrnd_search\u001b[49m\u001b[38;5;241;43m.\u001b[39;49m\u001b[43mcv_results_\u001b[49m\n\u001b[0;32m      2\u001b[0m \u001b[38;5;28;01mfor\u001b[39;00m mean_score, params \u001b[38;5;129;01min\u001b[39;00m \u001b[38;5;28mzip\u001b[39m(cvres[\u001b[38;5;124m\"\u001b[39m\u001b[38;5;124mmean_test_score\u001b[39m\u001b[38;5;124m\"\u001b[39m],cvres[\u001b[38;5;124m\"\u001b[39m\u001b[38;5;124mparams\u001b[39m\u001b[38;5;124m\"\u001b[39m]):\n\u001b[0;32m      3\u001b[0m     \u001b[38;5;28mprint\u001b[39m(np\u001b[38;5;241m.\u001b[39msqrt(mean_score), params)\n",
      "\u001b[1;31mAttributeError\u001b[0m: 'RandomizedSearchCV' object has no attribute 'cv_results_'"
     ]
    }
   ],
   "source": [
    "cvres=rnd_search.cv_results_\n",
    "for mean_score, params in zip(cvres[\"mean_test_score\"],cvres[\"params\"]):\n",
    "    print(np.sqrt(mean_score), params)"
   ]
  },
  {
   "cell_type": "code",
   "execution_count": null,
   "id": "1be5468c",
   "metadata": {},
   "outputs": [],
   "source": [
    "%%time\n",
    "model_RSCV_forest=rnd_search.best_estimator_\n",
    "y_pred=model_RSCV_forest.predict(X_test)\n",
    "rms=np.sqrt(mean_squared_error(y_test, y_pred))\n",
    "rms"
   ]
  },
  {
   "cell_type": "code",
   "execution_count": null,
   "id": "4d092c4d",
   "metadata": {},
   "outputs": [],
   "source": [
    "print('훈련용:',model_RSCV_forest.score(X_train, y_train))\n",
    "print('검증용:',model_RSCV_forest.score(X_test, y_test))\n",
    "print('예측용:',model_RSCV_forest.score(X_pred, y_pred))"
   ]
  },
  {
   "cell_type": "code",
   "execution_count": 33,
   "id": "3817224a",
   "metadata": {},
   "outputs": [
    {
     "name": "stdout",
     "output_type": "stream",
     "text": [
      "Model: \"sequential_2\"\n",
      "_________________________________________________________________\n",
      " Layer (type)                Output Shape              Param #   \n",
      "=================================================================\n",
      " input (Dense)               (None, 36)                540       \n",
      "                                                                 \n",
      " hidden-1 (Dense)            (None, 18)                666       \n",
      "                                                                 \n",
      " hidden-2 (Dense)            (None, 9)                 171       \n",
      "                                                                 \n",
      " output (Dense)              (None, 1)                 10        \n",
      "                                                                 \n",
      "=================================================================\n",
      "Total params: 1,387\n",
      "Trainable params: 1,387\n",
      "Non-trainable params: 0\n",
      "_________________________________________________________________\n"
     ]
    }
   ],
   "source": [
    "# 인공신경망\n",
    "model = Sequential()\n",
    "model.add(Dense(36, input_shape=(len(X_train.columns),), activation='relu', name='input'))\n",
    "model.add(Dense(18, activation='relu', name='hidden-1'))\n",
    "model.add(Dense(9, activation='relu', name='hidden-2'))\n",
    "model.add(Dense(1, name='output')) #항등함수\n",
    "model.compile(loss='mse', optimizer='adam', metrics='mse')\n",
    "model.summary()"
   ]
  },
  {
   "cell_type": "code",
   "execution_count": 40,
   "id": "ea2abadb",
   "metadata": {},
   "outputs": [
    {
     "name": "stdout",
     "output_type": "stream",
     "text": [
      "Epoch 1/500\n",
      "48334/48334 [==============================] - 64s 1ms/step - loss: 9.0637 - mse: 9.0637 - val_loss: 9.2224 - val_mse: 9.2224\n",
      "Epoch 2/500\n",
      "44186/48334 [==========================>...] - ETA: 4s - loss: 9.0478 - mse: 9.0478"
     ]
    },
    {
     "ename": "KeyboardInterrupt",
     "evalue": "",
     "output_type": "error",
     "traceback": [
      "\u001b[1;31m---------------------------------------------------------------------------\u001b[0m",
      "\u001b[1;31mKeyboardInterrupt\u001b[0m                         Traceback (most recent call last)",
      "\u001b[1;32m<timed exec>\u001b[0m in \u001b[0;36m<module>\u001b[1;34m\u001b[0m\n",
      "\u001b[1;32m~\\AppData\\Roaming\\Python\\Python39\\site-packages\\keras\\utils\\traceback_utils.py\u001b[0m in \u001b[0;36merror_handler\u001b[1;34m(*args, **kwargs)\u001b[0m\n\u001b[0;32m     63\u001b[0m         \u001b[0mfiltered_tb\u001b[0m \u001b[1;33m=\u001b[0m \u001b[1;32mNone\u001b[0m\u001b[1;33m\u001b[0m\u001b[1;33m\u001b[0m\u001b[0m\n\u001b[0;32m     64\u001b[0m         \u001b[1;32mtry\u001b[0m\u001b[1;33m:\u001b[0m\u001b[1;33m\u001b[0m\u001b[1;33m\u001b[0m\u001b[0m\n\u001b[1;32m---> 65\u001b[1;33m             \u001b[1;32mreturn\u001b[0m \u001b[0mfn\u001b[0m\u001b[1;33m(\u001b[0m\u001b[1;33m*\u001b[0m\u001b[0margs\u001b[0m\u001b[1;33m,\u001b[0m \u001b[1;33m**\u001b[0m\u001b[0mkwargs\u001b[0m\u001b[1;33m)\u001b[0m\u001b[1;33m\u001b[0m\u001b[1;33m\u001b[0m\u001b[0m\n\u001b[0m\u001b[0;32m     66\u001b[0m         \u001b[1;32mexcept\u001b[0m \u001b[0mException\u001b[0m \u001b[1;32mas\u001b[0m \u001b[0me\u001b[0m\u001b[1;33m:\u001b[0m\u001b[1;33m\u001b[0m\u001b[1;33m\u001b[0m\u001b[0m\n\u001b[0;32m     67\u001b[0m             \u001b[0mfiltered_tb\u001b[0m \u001b[1;33m=\u001b[0m \u001b[0m_process_traceback_frames\u001b[0m\u001b[1;33m(\u001b[0m\u001b[0me\u001b[0m\u001b[1;33m.\u001b[0m\u001b[0m__traceback__\u001b[0m\u001b[1;33m)\u001b[0m\u001b[1;33m\u001b[0m\u001b[1;33m\u001b[0m\u001b[0m\n",
      "\u001b[1;32m~\\AppData\\Roaming\\Python\\Python39\\site-packages\\keras\\engine\\training.py\u001b[0m in \u001b[0;36mfit\u001b[1;34m(self, x, y, batch_size, epochs, verbose, callbacks, validation_split, validation_data, shuffle, class_weight, sample_weight, initial_epoch, steps_per_epoch, validation_steps, validation_batch_size, validation_freq, max_queue_size, workers, use_multiprocessing)\u001b[0m\n\u001b[0;32m   1648\u001b[0m                         ):\n\u001b[0;32m   1649\u001b[0m                             \u001b[0mcallbacks\u001b[0m\u001b[1;33m.\u001b[0m\u001b[0mon_train_batch_begin\u001b[0m\u001b[1;33m(\u001b[0m\u001b[0mstep\u001b[0m\u001b[1;33m)\u001b[0m\u001b[1;33m\u001b[0m\u001b[1;33m\u001b[0m\u001b[0m\n\u001b[1;32m-> 1650\u001b[1;33m                             \u001b[0mtmp_logs\u001b[0m \u001b[1;33m=\u001b[0m \u001b[0mself\u001b[0m\u001b[1;33m.\u001b[0m\u001b[0mtrain_function\u001b[0m\u001b[1;33m(\u001b[0m\u001b[0miterator\u001b[0m\u001b[1;33m)\u001b[0m\u001b[1;33m\u001b[0m\u001b[1;33m\u001b[0m\u001b[0m\n\u001b[0m\u001b[0;32m   1651\u001b[0m                             \u001b[1;32mif\u001b[0m \u001b[0mdata_handler\u001b[0m\u001b[1;33m.\u001b[0m\u001b[0mshould_sync\u001b[0m\u001b[1;33m:\u001b[0m\u001b[1;33m\u001b[0m\u001b[1;33m\u001b[0m\u001b[0m\n\u001b[0;32m   1652\u001b[0m                                 \u001b[0mcontext\u001b[0m\u001b[1;33m.\u001b[0m\u001b[0masync_wait\u001b[0m\u001b[1;33m(\u001b[0m\u001b[1;33m)\u001b[0m\u001b[1;33m\u001b[0m\u001b[1;33m\u001b[0m\u001b[0m\n",
      "\u001b[1;32m~\\AppData\\Roaming\\Python\\Python39\\site-packages\\tensorflow\\python\\util\\traceback_utils.py\u001b[0m in \u001b[0;36merror_handler\u001b[1;34m(*args, **kwargs)\u001b[0m\n\u001b[0;32m    148\u001b[0m     \u001b[0mfiltered_tb\u001b[0m \u001b[1;33m=\u001b[0m \u001b[1;32mNone\u001b[0m\u001b[1;33m\u001b[0m\u001b[1;33m\u001b[0m\u001b[0m\n\u001b[0;32m    149\u001b[0m     \u001b[1;32mtry\u001b[0m\u001b[1;33m:\u001b[0m\u001b[1;33m\u001b[0m\u001b[1;33m\u001b[0m\u001b[0m\n\u001b[1;32m--> 150\u001b[1;33m       \u001b[1;32mreturn\u001b[0m \u001b[0mfn\u001b[0m\u001b[1;33m(\u001b[0m\u001b[1;33m*\u001b[0m\u001b[0margs\u001b[0m\u001b[1;33m,\u001b[0m \u001b[1;33m**\u001b[0m\u001b[0mkwargs\u001b[0m\u001b[1;33m)\u001b[0m\u001b[1;33m\u001b[0m\u001b[1;33m\u001b[0m\u001b[0m\n\u001b[0m\u001b[0;32m    151\u001b[0m     \u001b[1;32mexcept\u001b[0m \u001b[0mException\u001b[0m \u001b[1;32mas\u001b[0m \u001b[0me\u001b[0m\u001b[1;33m:\u001b[0m\u001b[1;33m\u001b[0m\u001b[1;33m\u001b[0m\u001b[0m\n\u001b[0;32m    152\u001b[0m       \u001b[0mfiltered_tb\u001b[0m \u001b[1;33m=\u001b[0m \u001b[0m_process_traceback_frames\u001b[0m\u001b[1;33m(\u001b[0m\u001b[0me\u001b[0m\u001b[1;33m.\u001b[0m\u001b[0m__traceback__\u001b[0m\u001b[1;33m)\u001b[0m\u001b[1;33m\u001b[0m\u001b[1;33m\u001b[0m\u001b[0m\n",
      "\u001b[1;32m~\\AppData\\Roaming\\Python\\Python39\\site-packages\\tensorflow\\python\\eager\\polymorphic_function\\polymorphic_function.py\u001b[0m in \u001b[0;36m__call__\u001b[1;34m(self, *args, **kwds)\u001b[0m\n\u001b[0;32m    878\u001b[0m \u001b[1;33m\u001b[0m\u001b[0m\n\u001b[0;32m    879\u001b[0m       \u001b[1;32mwith\u001b[0m \u001b[0mOptionalXlaContext\u001b[0m\u001b[1;33m(\u001b[0m\u001b[0mself\u001b[0m\u001b[1;33m.\u001b[0m\u001b[0m_jit_compile\u001b[0m\u001b[1;33m)\u001b[0m\u001b[1;33m:\u001b[0m\u001b[1;33m\u001b[0m\u001b[1;33m\u001b[0m\u001b[0m\n\u001b[1;32m--> 880\u001b[1;33m         \u001b[0mresult\u001b[0m \u001b[1;33m=\u001b[0m \u001b[0mself\u001b[0m\u001b[1;33m.\u001b[0m\u001b[0m_call\u001b[0m\u001b[1;33m(\u001b[0m\u001b[1;33m*\u001b[0m\u001b[0margs\u001b[0m\u001b[1;33m,\u001b[0m \u001b[1;33m**\u001b[0m\u001b[0mkwds\u001b[0m\u001b[1;33m)\u001b[0m\u001b[1;33m\u001b[0m\u001b[1;33m\u001b[0m\u001b[0m\n\u001b[0m\u001b[0;32m    881\u001b[0m \u001b[1;33m\u001b[0m\u001b[0m\n\u001b[0;32m    882\u001b[0m       \u001b[0mnew_tracing_count\u001b[0m \u001b[1;33m=\u001b[0m \u001b[0mself\u001b[0m\u001b[1;33m.\u001b[0m\u001b[0mexperimental_get_tracing_count\u001b[0m\u001b[1;33m(\u001b[0m\u001b[1;33m)\u001b[0m\u001b[1;33m\u001b[0m\u001b[1;33m\u001b[0m\u001b[0m\n",
      "\u001b[1;32m~\\AppData\\Roaming\\Python\\Python39\\site-packages\\tensorflow\\python\\eager\\polymorphic_function\\polymorphic_function.py\u001b[0m in \u001b[0;36m_call\u001b[1;34m(self, *args, **kwds)\u001b[0m\n\u001b[0;32m    910\u001b[0m       \u001b[1;31m# In this case we have created variables on the first call, so we run the\u001b[0m\u001b[1;33m\u001b[0m\u001b[1;33m\u001b[0m\u001b[0m\n\u001b[0;32m    911\u001b[0m       \u001b[1;31m# defunned version which is guaranteed to never create variables.\u001b[0m\u001b[1;33m\u001b[0m\u001b[1;33m\u001b[0m\u001b[0m\n\u001b[1;32m--> 912\u001b[1;33m       \u001b[1;32mreturn\u001b[0m \u001b[0mself\u001b[0m\u001b[1;33m.\u001b[0m\u001b[0m_no_variable_creation_fn\u001b[0m\u001b[1;33m(\u001b[0m\u001b[1;33m*\u001b[0m\u001b[0margs\u001b[0m\u001b[1;33m,\u001b[0m \u001b[1;33m**\u001b[0m\u001b[0mkwds\u001b[0m\u001b[1;33m)\u001b[0m  \u001b[1;31m# pylint: disable=not-callable\u001b[0m\u001b[1;33m\u001b[0m\u001b[1;33m\u001b[0m\u001b[0m\n\u001b[0m\u001b[0;32m    913\u001b[0m     \u001b[1;32melif\u001b[0m \u001b[0mself\u001b[0m\u001b[1;33m.\u001b[0m\u001b[0m_variable_creation_fn\u001b[0m \u001b[1;32mis\u001b[0m \u001b[1;32mnot\u001b[0m \u001b[1;32mNone\u001b[0m\u001b[1;33m:\u001b[0m\u001b[1;33m\u001b[0m\u001b[1;33m\u001b[0m\u001b[0m\n\u001b[0;32m    914\u001b[0m       \u001b[1;31m# Release the lock early so that multiple threads can perform the call\u001b[0m\u001b[1;33m\u001b[0m\u001b[1;33m\u001b[0m\u001b[0m\n",
      "\u001b[1;32m~\\AppData\\Roaming\\Python\\Python39\\site-packages\\tensorflow\\python\\eager\\polymorphic_function\\tracing_compiler.py\u001b[0m in \u001b[0;36m__call__\u001b[1;34m(self, *args, **kwargs)\u001b[0m\n\u001b[0;32m    132\u001b[0m       (concrete_function,\n\u001b[0;32m    133\u001b[0m        filtered_flat_args) = self._maybe_define_function(args, kwargs)\n\u001b[1;32m--> 134\u001b[1;33m     return concrete_function._call_flat(\n\u001b[0m\u001b[0;32m    135\u001b[0m         filtered_flat_args, captured_inputs=concrete_function.captured_inputs)  # pylint: disable=protected-access\n\u001b[0;32m    136\u001b[0m \u001b[1;33m\u001b[0m\u001b[0m\n",
      "\u001b[1;32m~\\AppData\\Roaming\\Python\\Python39\\site-packages\\tensorflow\\python\\eager\\polymorphic_function\\monomorphic_function.py\u001b[0m in \u001b[0;36m_call_flat\u001b[1;34m(self, args, captured_inputs, cancellation_manager)\u001b[0m\n\u001b[0;32m   1743\u001b[0m         and executing_eagerly):\n\u001b[0;32m   1744\u001b[0m       \u001b[1;31m# No tape is watching; skip to running the function.\u001b[0m\u001b[1;33m\u001b[0m\u001b[1;33m\u001b[0m\u001b[0m\n\u001b[1;32m-> 1745\u001b[1;33m       return self._build_call_outputs(self._inference_function.call(\n\u001b[0m\u001b[0;32m   1746\u001b[0m           ctx, args, cancellation_manager=cancellation_manager))\n\u001b[0;32m   1747\u001b[0m     forward_backward = self._select_forward_and_backward_functions(\n",
      "\u001b[1;32m~\\AppData\\Roaming\\Python\\Python39\\site-packages\\tensorflow\\python\\eager\\polymorphic_function\\monomorphic_function.py\u001b[0m in \u001b[0;36mcall\u001b[1;34m(self, ctx, args, cancellation_manager)\u001b[0m\n\u001b[0;32m    376\u001b[0m       \u001b[1;32mwith\u001b[0m \u001b[0m_InterpolateFunctionError\u001b[0m\u001b[1;33m(\u001b[0m\u001b[0mself\u001b[0m\u001b[1;33m)\u001b[0m\u001b[1;33m:\u001b[0m\u001b[1;33m\u001b[0m\u001b[1;33m\u001b[0m\u001b[0m\n\u001b[0;32m    377\u001b[0m         \u001b[1;32mif\u001b[0m \u001b[0mcancellation_manager\u001b[0m \u001b[1;32mis\u001b[0m \u001b[1;32mNone\u001b[0m\u001b[1;33m:\u001b[0m\u001b[1;33m\u001b[0m\u001b[1;33m\u001b[0m\u001b[0m\n\u001b[1;32m--> 378\u001b[1;33m           outputs = execute.execute(\n\u001b[0m\u001b[0;32m    379\u001b[0m               \u001b[0mstr\u001b[0m\u001b[1;33m(\u001b[0m\u001b[0mself\u001b[0m\u001b[1;33m.\u001b[0m\u001b[0msignature\u001b[0m\u001b[1;33m.\u001b[0m\u001b[0mname\u001b[0m\u001b[1;33m)\u001b[0m\u001b[1;33m,\u001b[0m\u001b[1;33m\u001b[0m\u001b[1;33m\u001b[0m\u001b[0m\n\u001b[0;32m    380\u001b[0m               \u001b[0mnum_outputs\u001b[0m\u001b[1;33m=\u001b[0m\u001b[0mself\u001b[0m\u001b[1;33m.\u001b[0m\u001b[0m_num_outputs\u001b[0m\u001b[1;33m,\u001b[0m\u001b[1;33m\u001b[0m\u001b[1;33m\u001b[0m\u001b[0m\n",
      "\u001b[1;32m~\\AppData\\Roaming\\Python\\Python39\\site-packages\\tensorflow\\python\\eager\\execute.py\u001b[0m in \u001b[0;36mquick_execute\u001b[1;34m(op_name, num_outputs, inputs, attrs, ctx, name)\u001b[0m\n\u001b[0;32m     50\u001b[0m   \u001b[1;32mtry\u001b[0m\u001b[1;33m:\u001b[0m\u001b[1;33m\u001b[0m\u001b[1;33m\u001b[0m\u001b[0m\n\u001b[0;32m     51\u001b[0m     \u001b[0mctx\u001b[0m\u001b[1;33m.\u001b[0m\u001b[0mensure_initialized\u001b[0m\u001b[1;33m(\u001b[0m\u001b[1;33m)\u001b[0m\u001b[1;33m\u001b[0m\u001b[1;33m\u001b[0m\u001b[0m\n\u001b[1;32m---> 52\u001b[1;33m     tensors = pywrap_tfe.TFE_Py_Execute(ctx._handle, device_name, op_name,\n\u001b[0m\u001b[0;32m     53\u001b[0m                                         inputs, attrs, num_outputs)\n\u001b[0;32m     54\u001b[0m   \u001b[1;32mexcept\u001b[0m \u001b[0mcore\u001b[0m\u001b[1;33m.\u001b[0m\u001b[0m_NotOkStatusException\u001b[0m \u001b[1;32mas\u001b[0m \u001b[0me\u001b[0m\u001b[1;33m:\u001b[0m\u001b[1;33m\u001b[0m\u001b[1;33m\u001b[0m\u001b[0m\n",
      "\u001b[1;31mKeyboardInterrupt\u001b[0m: "
     ]
    }
   ],
   "source": [
    "%%time\n",
    "np.random.seed(1234)\n",
    "early_stopping = EarlyStopping(monitor='val_loss', patience=7)\n",
    "hist = model.fit(X_scaled, y, epochs=500, validation_split=0.2, callbacks=[early_stopping])"
   ]
  },
  {
   "cell_type": "code",
   "execution_count": 35,
   "id": "b29cbeae",
   "metadata": {},
   "outputs": [
    {
     "data": {
      "image/png": "[encoded data removed]",
      "text/plain": [
       "<Figure size 640x480 with 1 Axes>"
      ]
     },
     "metadata": {},
     "output_type": "display_data"
    }
   ],
   "source": [
    "plt.plot(hist.history['loss'])\n",
    "plt.plot(hist.history['val_loss'])\n",
    "plt.legend(['loss', 'val_loss'])\n",
    "plt.show()"
   ]
  },
  {
   "cell_type": "code",
   "execution_count": 36,
   "id": "37969f6c",
   "metadata": {},
   "outputs": [
    {
     "data": {
      "image/png": "[encoded data removed]",
      "text/plain": [
       "<Figure size 640x480 with 1 Axes>"
      ]
     },
     "metadata": {},
     "output_type": "display_data"
    }
   ],
   "source": [
    "plt.plot(hist.history['mse'])\n",
    "plt.plot(hist.history['val_mse'])\n",
    "plt.legend(['mse', 'val_mse'])\n",
    "plt.show()"
   ]
  },
  {
   "cell_type": "code",
   "execution_count": 37,
   "id": "23517daf",
   "metadata": {},
   "outputs": [
    {
     "name": "stdout",
     "output_type": "stream",
     "text": [
      "42292/42292 [==============================] - 39s 923us/step - loss: 8.9763 - mse: 8.9763\n",
      "[8.976320266723633, 8.976320266723633]\n",
      "18125/18125 [==============================] - 18s 998us/step - loss: 9.0201 - mse: 9.0201\n",
      "[9.020102500915527, 9.020102500915527]\n"
     ]
    }
   ],
   "source": [
    "scores = model.evaluate(X_train, y_train)\n",
    "print(scores)\n",
    "scores = model.evaluate(X_test, y_test)\n",
    "print(scores)"
   ]
  },
  {
   "cell_type": "code",
   "execution_count": 38,
   "id": "9e6feb7a",
   "metadata": {},
   "outputs": [
    {
     "name": "stdout",
     "output_type": "stream",
     "text": [
      "18125/18125 [==============================] - 14s 780us/step\n"
     ]
    },
    {
     "data": {
      "text/plain": [
       "0.9113426889256729"
      ]
     },
     "execution_count": 38,
     "metadata": {},
     "output_type": "execute_result"
    }
   ],
   "source": [
    "from sklearn.metrics import r2_score\n",
    "pred = model.predict(X_test)\n",
    "r2_score(y_test, pred)"
   ]
  },
  {
   "cell_type": "code",
   "execution_count": null,
   "id": "c36729a5",
   "metadata": {},
   "outputs": [],
   "source": []
  }
 ],
 "metadata": {
  "kernelspec": {
   "display_name": "Python 3 (ipykernel)",
   "language": "python",
   "name": "python3"
  },
  "language_info": {
   "codemirror_mode": {
    "name": "ipython",
    "version": 3
   },
   "file_extension": ".py",
   "mimetype": "text/x-python",
   "name": "python",
   "nbconvert_exporter": "python",
   "pygments_lexer": "ipython3",
   "version": "3.9.13"
  }
 },
 "nbformat": 4,
 "nbformat_minor": 5
}
