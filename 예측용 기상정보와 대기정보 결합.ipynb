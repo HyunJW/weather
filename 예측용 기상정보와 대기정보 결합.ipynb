{
 "cells": [
  {
   "cell_type": "code",
   "execution_count": 27,
   "id": "bf32e8be",
   "metadata": {},
   "outputs": [],
   "source": [
    "import pandas as pd\n",
    "from datetime import datetime, timedelta\n",
    "import numpy as np"
   ]
  },
  {
   "cell_type": "code",
   "execution_count": 28,
   "id": "adf4c2f6",
   "metadata": {},
   "outputs": [],
   "source": [
    "# 24:00을 시계열 자료형으로 변환하는 함수\n",
    "def zerofrom24(datetime, _format):\n",
    "    datetime = str(datetime)\n",
    "    try:\n",
    "        return pd.to_datetime(datetime, format = _format)\n",
    "    except:\n",
    "        datetime = datetime[:-5] + '00:00'\n",
    "        return pd.to_datetime(datetime, format = _format)+ timedelta(days=1)"
   ]
  },
  {
   "cell_type": "code",
   "execution_count": 29,
   "id": "194abcb4",
   "metadata": {},
   "outputs": [
    {
     "name": "stderr",
     "output_type": "stream",
     "text": [
      "C:\\Users\\tjoeun\\AppData\\Local\\Temp\\ipykernel_7100\\270997152.py:2: DtypeWarning: Columns (14) have mixed types. Specify dtype option on import or set low_memory=False.\n",
      "  df_temp_2018 = pd.read_csv('./data/기상2018년.csv', encoding='cp949')\n",
      "C:\\Users\\tjoeun\\AppData\\Local\\Temp\\ipykernel_7100\\270997152.py:3: DtypeWarning: Columns (14) have mixed types. Specify dtype option on import or set low_memory=False.\n",
      "  df_temp_2019 = pd.read_csv('./data/기상2019년.csv', encoding='cp949')\n",
      "C:\\Users\\tjoeun\\AppData\\Local\\Temp\\ipykernel_7100\\270997152.py:4: DtypeWarning: Columns (14) have mixed types. Specify dtype option on import or set low_memory=False.\n",
      "  df_temp_2020 = pd.read_csv('./data/기상2020년.csv', encoding='cp949')\n",
      "C:\\Users\\tjoeun\\AppData\\Local\\Temp\\ipykernel_7100\\270997152.py:5: DtypeWarning: Columns (14) have mixed types. Specify dtype option on import or set low_memory=False.\n",
      "  df_temp_2021 = pd.read_csv('./data/기상2021년.csv', encoding='cp949')\n",
      "C:\\Users\\tjoeun\\AppData\\Local\\Temp\\ipykernel_7100\\270997152.py:6: DtypeWarning: Columns (14) have mixed types. Specify dtype option on import or set low_memory=False.\n",
      "  df_temp_2022 = pd.read_csv('./data/기상2022년.csv', encoding='cp949')\n"
     ]
    }
   ],
   "source": [
    "# 기상정보 가져오기(기온, 강수, 풍속 등)\n",
    "df_temp_2018 = pd.read_csv('./data/기상2018년.csv', encoding='cp949')\n",
    "df_temp_2019 = pd.read_csv('./data/기상2019년.csv', encoding='cp949')\n",
    "df_temp_2020 = pd.read_csv('./data/기상2020년.csv', encoding='cp949')\n",
    "df_temp_2021 = pd.read_csv('./data/기상2021년.csv', encoding='cp949')\n",
    "df_temp_2022 = pd.read_csv('./data/기상2022년.csv', encoding='cp949')\n",
    "df_temp_2023 = pd.read_csv('./data/2023년2월기상데이터.csv', encoding='cp949')"
   ]
  },
  {
   "cell_type": "code",
   "execution_count": 30,
   "id": "43c42a9d",
   "metadata": {},
   "outputs": [],
   "source": [
    "# 데이터 결합\n",
    "df_temp = pd.concat([df_temp_2018, df_temp_2019, df_temp_2020, df_temp_2021, df_temp_2022,df_temp_2023], axis=0)"
   ]
  },
  {
   "cell_type": "code",
   "execution_count": 31,
   "id": "abdaeac2",
   "metadata": {},
   "outputs": [],
   "source": [
    "# 일시 컬럼을 시계열 자료형으로 변경\n",
    "df_temp['일시'] = pd.to_datetime(df_temp['일시'], format='%Y%m%d %H:%M')"
   ]
  },
  {
   "cell_type": "code",
   "execution_count": 32,
   "id": "6e10892b",
   "metadata": {},
   "outputs": [
    {
     "name": "stdout",
     "output_type": "stream",
     "text": [
      "<class 'pandas.core.frame.DataFrame'>\n",
      "Int64Index: 4228195 entries, 0 to 63744\n",
      "Data columns (total 19 columns):\n",
      " #   Column     Dtype         \n",
      "---  ------     -----         \n",
      " 0   지점         int64         \n",
      " 1   지점명        object        \n",
      " 2   일시         datetime64[ns]\n",
      " 3   기온(°C)     float64       \n",
      " 4   강수량(mm)    float64       \n",
      " 5   풍속(m/s)    float64       \n",
      " 6   풍향(16방위)   float64       \n",
      " 7   습도(%)      float64       \n",
      " 8   현지기압(hPa)  float64       \n",
      " 9   해면기압(hPa)  float64       \n",
      " 10  일조(hr)     float64       \n",
      " 11  일사(MJ/m2)  float64       \n",
      " 12  적설(cm)     float64       \n",
      " 13  전운량(10분위)  float64       \n",
      " 14  운형(운형약어)   object        \n",
      " 15  증기압(hPa)   float64       \n",
      " 16  이슬점온도(°C)  float64       \n",
      " 17  시정(10m)    float64       \n",
      " 18  지면온도(°C)   float64       \n",
      "dtypes: datetime64[ns](1), float64(15), int64(1), object(2)\n",
      "memory usage: 645.2+ MB\n"
     ]
    }
   ],
   "source": [
    "df_temp.info()"
   ]
  },
  {
   "cell_type": "code",
   "execution_count": 53,
   "id": "4aa3d533",
   "metadata": {},
   "outputs": [],
   "source": [
    "# 대기정보 가져오기(미세먼지, 초미세먼지, 이산화탄소, 일산화탄소, 아황산가스 농도)\n",
    "df_airinfo = pd.read_csv('./data/예측용관측소_수정.csv')"
   ]
  },
  {
   "cell_type": "code",
   "execution_count": 54,
   "id": "94bbaa3a",
   "metadata": {},
   "outputs": [
    {
     "name": "stdout",
     "output_type": "stream",
     "text": [
      "<class 'pandas.core.frame.DataFrame'>\n",
      "RangeIndex: 15648 entries, 0 to 15647\n",
      "Data columns (total 8 columns):\n",
      " #   Column  Non-Null Count  Dtype  \n",
      "---  ------  --------------  -----  \n",
      " 0   지점명     15648 non-null  object \n",
      " 1   일시      15648 non-null  object \n",
      " 2   PM10    14611 non-null  float64\n",
      " 3   PM2.5   14611 non-null  float64\n",
      " 4   O3      14722 non-null  float64\n",
      " 5   NO2     14723 non-null  float64\n",
      " 6   CO      14534 non-null  float64\n",
      " 7   SO2     14681 non-null  float64\n",
      "dtypes: float64(6), object(2)\n",
      "memory usage: 978.1+ KB\n"
     ]
    }
   ],
   "source": [
    "df_airinfo.info()"
   ]
  },
  {
   "cell_type": "code",
   "execution_count": 55,
   "id": "200d7095",
   "metadata": {},
   "outputs": [],
   "source": [
    "# 일시 컬럼을 시계열 자료형으로 변경\n",
    "df_airinfo['일시'] = df_airinfo['일시'].apply(lambda x: zerofrom24(x, '%Y%m%d %H:%M'))"
   ]
  },
  {
   "cell_type": "code",
   "execution_count": 56,
   "id": "f5210546",
   "metadata": {},
   "outputs": [],
   "source": [
    "# 타입변경이 이루어진 데이터를 저장\n",
    "df_airinfo.to_csv('./data/예측용관측소_타입변경.csv', index=False)"
   ]
  },
  {
   "cell_type": "code",
   "execution_count": 57,
   "id": "be0680c2",
   "metadata": {},
   "outputs": [],
   "source": [
    "# 대기정보 가져오기\n",
    "df_airinfo = pd.read_csv('./data/예측용관측소_타입변경.csv')"
   ]
  },
  {
   "cell_type": "code",
   "execution_count": 58,
   "id": "f1f0eded",
   "metadata": {},
   "outputs": [
    {
     "name": "stdout",
     "output_type": "stream",
     "text": [
      "<class 'pandas.core.frame.DataFrame'>\n",
      "RangeIndex: 15648 entries, 0 to 15647\n",
      "Data columns (total 8 columns):\n",
      " #   Column  Non-Null Count  Dtype  \n",
      "---  ------  --------------  -----  \n",
      " 0   지점명     15648 non-null  object \n",
      " 1   일시      15648 non-null  object \n",
      " 2   PM10    14611 non-null  float64\n",
      " 3   PM2.5   14611 non-null  float64\n",
      " 4   O3      14722 non-null  float64\n",
      " 5   NO2     14723 non-null  float64\n",
      " 6   CO      14534 non-null  float64\n",
      " 7   SO2     14681 non-null  float64\n",
      "dtypes: float64(6), object(2)\n",
      "memory usage: 978.1+ KB\n"
     ]
    }
   ],
   "source": [
    "df_airinfo.info()"
   ]
  },
  {
   "cell_type": "code",
   "execution_count": 59,
   "id": "7082f146",
   "metadata": {},
   "outputs": [],
   "source": [
    "# 일시 컬럼을 시계열 자료형으로 변경\n",
    "df_airinfo['일시'] = pd.to_datetime(df_airinfo['일시'], format='%Y%m%d %H:%M')"
   ]
  },
  {
   "cell_type": "code",
   "execution_count": 60,
   "id": "ec4d9c70",
   "metadata": {},
   "outputs": [],
   "source": [
    "# 기상정보와 대기정보 데이터를 지점명과 일시를 기준으로 결합\n",
    "df = pd.merge(df_temp, df_airinfo, how='left', left_on=['지점명', '일시'], right_on=['지점명', '일시'])"
   ]
  },
  {
   "cell_type": "code",
   "execution_count": 61,
   "id": "40d755b9",
   "metadata": {},
   "outputs": [
    {
     "data": {
      "text/plain": [
       "Index(['지점', '지점명', '일시', '기온(°C)', '강수량(mm)', '풍속(m/s)', '풍향(16방위)', '습도(%)',\n",
       "       '현지기압(hPa)', '해면기압(hPa)', '일조(hr)', '일사(MJ/m2)', '적설(cm)', '전운량(10분위)',\n",
       "       '운형(운형약어)', '증기압(hPa)', '이슬점온도(°C)', '시정(10m)', '지면온도(°C)', 'PM10',\n",
       "       'PM2.5', 'O3', 'NO2', 'CO', 'SO2'],\n",
       "      dtype='object')"
      ]
     },
     "execution_count": 61,
     "metadata": {},
     "output_type": "execute_result"
    }
   ],
   "source": [
    "df.columns"
   ]
  },
  {
   "cell_type": "code",
   "execution_count": 62,
   "id": "947c3a2b",
   "metadata": {},
   "outputs": [],
   "source": [
    "# 강수량과 적설 컬럼의 결측치를 0으로 채우기\n",
    "df['강수량(mm)'].fillna(0, inplace=True)\n",
    "df['적설(cm)'].fillna(0, inplace=True)\n",
    "df['일조(hr)'].fillna(0, inplace=True)"
   ]
  },
  {
   "cell_type": "code",
   "execution_count": 63,
   "id": "37882877",
   "metadata": {},
   "outputs": [],
   "source": [
    "# 필요없는 컬럼 제거\n",
    "df.drop(columns=['일사(MJ/m2)', '운형(운형약어)'], inplace=True)"
   ]
  },
  {
   "cell_type": "code",
   "execution_count": 64,
   "id": "a7687c87",
   "metadata": {},
   "outputs": [
    {
     "name": "stdout",
     "output_type": "stream",
     "text": [
      "<class 'pandas.core.frame.DataFrame'>\n",
      "Int64Index: 4228195 entries, 0 to 4228194\n",
      "Data columns (total 23 columns):\n",
      " #   Column     Dtype         \n",
      "---  ------     -----         \n",
      " 0   지점         int64         \n",
      " 1   지점명        object        \n",
      " 2   일시         datetime64[ns]\n",
      " 3   기온(°C)     float64       \n",
      " 4   강수량(mm)    float64       \n",
      " 5   풍속(m/s)    float64       \n",
      " 6   풍향(16방위)   float64       \n",
      " 7   습도(%)      float64       \n",
      " 8   현지기압(hPa)  float64       \n",
      " 9   해면기압(hPa)  float64       \n",
      " 10  일조(hr)     float64       \n",
      " 11  적설(cm)     float64       \n",
      " 12  전운량(10분위)  float64       \n",
      " 13  증기압(hPa)   float64       \n",
      " 14  이슬점온도(°C)  float64       \n",
      " 15  시정(10m)    float64       \n",
      " 16  지면온도(°C)   float64       \n",
      " 17  PM10       float64       \n",
      " 18  PM2.5      float64       \n",
      " 19  O3         float64       \n",
      " 20  NO2        float64       \n",
      " 21  CO         float64       \n",
      " 22  SO2        float64       \n",
      "dtypes: datetime64[ns](1), float64(20), int64(1), object(1)\n",
      "memory usage: 774.2+ MB\n"
     ]
    }
   ],
   "source": [
    "df.info()"
   ]
  },
  {
   "cell_type": "code",
   "execution_count": 65,
   "id": "c7147060",
   "metadata": {},
   "outputs": [],
   "source": [
    "# 결측값이 있는 행 제거\n",
    "df.dropna(inplace=True)"
   ]
  },
  {
   "cell_type": "code",
   "execution_count": 66,
   "id": "30f5f7db",
   "metadata": {},
   "outputs": [],
   "source": [
    "# 중복행 제거\n",
    "df.drop_duplicates(inplace=True)"
   ]
  },
  {
   "cell_type": "code",
   "execution_count": 67,
   "id": "51ddf49c",
   "metadata": {},
   "outputs": [],
   "source": [
    "# 인덱스 정렬\n",
    "df = df.set_index(['지점명', '일시']).reset_index()"
   ]
  },
  {
   "cell_type": "code",
   "execution_count": 68,
   "id": "45981d0c",
   "metadata": {},
   "outputs": [],
   "source": [
    "# '월' 컬럼 추가\n",
    "df['월'] = df['일시'].dt.month"
   ]
  },
  {
   "cell_type": "code",
   "execution_count": 69,
   "id": "1b2e8331",
   "metadata": {},
   "outputs": [],
   "source": [
    "# 전날 기온 컬럼 추가\n",
    "df['전날기온'] = ''\n",
    "for i in range(24, len(df)):\n",
    "    df.loc[i, '전날기온'] = df.loc[i-24, '기온(°C)']\n",
    "df = df.iloc[24:,:]\n",
    "df['전날기온'] = df['전날기온'].astype('float')"
   ]
  },
  {
   "cell_type": "code",
   "execution_count": 70,
   "id": "4ad8af91",
   "metadata": {},
   "outputs": [],
   "source": [
    "# 강수량(mm) 컬럼을 강수여부 범주형 변수로 변환\n",
    "df['강수량(mm)'] = np.where(df['강수량(mm)'] != 0, '1', '0')\n",
    "df.rename(columns={'강수량(mm)':'강수여부'}, inplace=True)"
   ]
  },
  {
   "cell_type": "code",
   "execution_count": 71,
   "id": "72b12290",
   "metadata": {},
   "outputs": [
    {
     "name": "stdout",
     "output_type": "stream",
     "text": [
      "<class 'pandas.core.frame.DataFrame'>\n",
      "RangeIndex: 5981 entries, 24 to 6004\n",
      "Data columns (total 25 columns):\n",
      " #   Column     Non-Null Count  Dtype         \n",
      "---  ------     --------------  -----         \n",
      " 0   지점명        5981 non-null   object        \n",
      " 1   일시         5981 non-null   datetime64[ns]\n",
      " 2   지점         5981 non-null   int64         \n",
      " 3   기온(°C)     5981 non-null   float64       \n",
      " 4   강수여부       5981 non-null   object        \n",
      " 5   풍속(m/s)    5981 non-null   float64       \n",
      " 6   풍향(16방위)   5981 non-null   float64       \n",
      " 7   습도(%)      5981 non-null   float64       \n",
      " 8   현지기압(hPa)  5981 non-null   float64       \n",
      " 9   해면기압(hPa)  5981 non-null   float64       \n",
      " 10  일조(hr)     5981 non-null   float64       \n",
      " 11  적설(cm)     5981 non-null   float64       \n",
      " 12  전운량(10분위)  5981 non-null   float64       \n",
      " 13  증기압(hPa)   5981 non-null   float64       \n",
      " 14  이슬점온도(°C)  5981 non-null   float64       \n",
      " 15  시정(10m)    5981 non-null   float64       \n",
      " 16  지면온도(°C)   5981 non-null   float64       \n",
      " 17  PM10       5981 non-null   float64       \n",
      " 18  PM2.5      5981 non-null   float64       \n",
      " 19  O3         5981 non-null   float64       \n",
      " 20  NO2        5981 non-null   float64       \n",
      " 21  CO         5981 non-null   float64       \n",
      " 22  SO2        5981 non-null   float64       \n",
      " 23  월          5981 non-null   int64         \n",
      " 24  전날기온       5981 non-null   float64       \n",
      "dtypes: datetime64[ns](1), float64(20), int64(2), object(2)\n",
      "memory usage: 1.1+ MB\n"
     ]
    }
   ],
   "source": [
    "df.info()"
   ]
  },
  {
   "cell_type": "code",
   "execution_count": 72,
   "id": "b73f19c3",
   "metadata": {},
   "outputs": [],
   "source": [
    "df.to_csv('./data/예측용기상대기정보.csv', index=False)"
   ]
  },
  {
   "cell_type": "code",
   "execution_count": 28,
   "id": "3e680086",
   "metadata": {},
   "outputs": [
    {
     "data": {
      "text/html": [
       "<div>\n",
       "<style scoped>\n",
       "    .dataframe tbody tr th:only-of-type {\n",
       "        vertical-align: middle;\n",
       "    }\n",
       "\n",
       "    .dataframe tbody tr th {\n",
       "        vertical-align: top;\n",
       "    }\n",
       "\n",
       "    .dataframe thead th {\n",
       "        text-align: right;\n",
       "    }\n",
       "</style>\n",
       "<table border=\"1\" class=\"dataframe\">\n",
       "  <thead>\n",
       "    <tr style=\"text-align: right;\">\n",
       "      <th></th>\n",
       "      <th>지점명</th>\n",
       "      <th>일시</th>\n",
       "      <th>지점</th>\n",
       "      <th>기온(°C)</th>\n",
       "      <th>강수여부</th>\n",
       "      <th>풍속(m/s)</th>\n",
       "      <th>풍향(16방위)</th>\n",
       "      <th>습도(%)</th>\n",
       "      <th>현지기압(hPa)</th>\n",
       "      <th>해면기압(hPa)</th>\n",
       "      <th>...</th>\n",
       "      <th>시정(10m)</th>\n",
       "      <th>지면온도(°C)</th>\n",
       "      <th>PM10</th>\n",
       "      <th>PM2.5</th>\n",
       "      <th>O3</th>\n",
       "      <th>NO2</th>\n",
       "      <th>CO</th>\n",
       "      <th>SO2</th>\n",
       "      <th>월</th>\n",
       "      <th>전날기온</th>\n",
       "    </tr>\n",
       "  </thead>\n",
       "  <tbody>\n",
       "    <tr>\n",
       "      <th>24</th>\n",
       "      <td>울릉도</td>\n",
       "      <td>2023-02-01 04:00:00</td>\n",
       "      <td>115</td>\n",
       "      <td>5.4</td>\n",
       "      <td>0</td>\n",
       "      <td>8.1</td>\n",
       "      <td>250.0</td>\n",
       "      <td>69.0</td>\n",
       "      <td>984.5</td>\n",
       "      <td>1011.4</td>\n",
       "      <td>...</td>\n",
       "      <td>2495.0</td>\n",
       "      <td>1.4</td>\n",
       "      <td>49.0</td>\n",
       "      <td>24.0</td>\n",
       "      <td>0.043</td>\n",
       "      <td>0.009</td>\n",
       "      <td>0.4</td>\n",
       "      <td>0.002</td>\n",
       "      <td>2</td>\n",
       "      <td>5.5</td>\n",
       "    </tr>\n",
       "    <tr>\n",
       "      <th>25</th>\n",
       "      <td>울릉도</td>\n",
       "      <td>2023-02-01 04:00:00</td>\n",
       "      <td>115</td>\n",
       "      <td>5.4</td>\n",
       "      <td>0</td>\n",
       "      <td>8.1</td>\n",
       "      <td>250.0</td>\n",
       "      <td>69.0</td>\n",
       "      <td>984.5</td>\n",
       "      <td>1011.4</td>\n",
       "      <td>...</td>\n",
       "      <td>2495.0</td>\n",
       "      <td>1.4</td>\n",
       "      <td>50.0</td>\n",
       "      <td>25.0</td>\n",
       "      <td>0.062</td>\n",
       "      <td>0.005</td>\n",
       "      <td>0.2</td>\n",
       "      <td>0.002</td>\n",
       "      <td>2</td>\n",
       "      <td>5.5</td>\n",
       "    </tr>\n",
       "    <tr>\n",
       "      <th>26</th>\n",
       "      <td>울릉도</td>\n",
       "      <td>2023-02-01 04:00:00</td>\n",
       "      <td>115</td>\n",
       "      <td>5.4</td>\n",
       "      <td>0</td>\n",
       "      <td>8.1</td>\n",
       "      <td>250.0</td>\n",
       "      <td>69.0</td>\n",
       "      <td>984.5</td>\n",
       "      <td>1011.4</td>\n",
       "      <td>...</td>\n",
       "      <td>2495.0</td>\n",
       "      <td>1.4</td>\n",
       "      <td>38.0</td>\n",
       "      <td>25.0</td>\n",
       "      <td>0.001</td>\n",
       "      <td>0.058</td>\n",
       "      <td>1.4</td>\n",
       "      <td>0.004</td>\n",
       "      <td>2</td>\n",
       "      <td>5.5</td>\n",
       "    </tr>\n",
       "    <tr>\n",
       "      <th>27</th>\n",
       "      <td>울릉도</td>\n",
       "      <td>2023-02-01 04:00:00</td>\n",
       "      <td>115</td>\n",
       "      <td>5.4</td>\n",
       "      <td>0</td>\n",
       "      <td>8.1</td>\n",
       "      <td>250.0</td>\n",
       "      <td>69.0</td>\n",
       "      <td>984.5</td>\n",
       "      <td>1011.4</td>\n",
       "      <td>...</td>\n",
       "      <td>2495.0</td>\n",
       "      <td>1.4</td>\n",
       "      <td>30.0</td>\n",
       "      <td>10.0</td>\n",
       "      <td>0.049</td>\n",
       "      <td>0.007</td>\n",
       "      <td>0.4</td>\n",
       "      <td>0.002</td>\n",
       "      <td>2</td>\n",
       "      <td>5.5</td>\n",
       "    </tr>\n",
       "    <tr>\n",
       "      <th>28</th>\n",
       "      <td>울릉도</td>\n",
       "      <td>2023-02-01 04:00:00</td>\n",
       "      <td>115</td>\n",
       "      <td>5.4</td>\n",
       "      <td>0</td>\n",
       "      <td>8.1</td>\n",
       "      <td>250.0</td>\n",
       "      <td>69.0</td>\n",
       "      <td>984.5</td>\n",
       "      <td>1011.4</td>\n",
       "      <td>...</td>\n",
       "      <td>2495.0</td>\n",
       "      <td>1.4</td>\n",
       "      <td>44.0</td>\n",
       "      <td>25.0</td>\n",
       "      <td>0.040</td>\n",
       "      <td>0.007</td>\n",
       "      <td>0.6</td>\n",
       "      <td>0.003</td>\n",
       "      <td>2</td>\n",
       "      <td>5.5</td>\n",
       "    </tr>\n",
       "  </tbody>\n",
       "</table>\n",
       "<p>5 rows × 25 columns</p>\n",
       "</div>"
      ],
      "text/plain": [
       "    지점명                  일시   지점  기온(°C) 강수여부  풍속(m/s)  풍향(16방위)  습도(%)  \\\n",
       "24  울릉도 2023-02-01 04:00:00  115     5.4    0      8.1     250.0   69.0   \n",
       "25  울릉도 2023-02-01 04:00:00  115     5.4    0      8.1     250.0   69.0   \n",
       "26  울릉도 2023-02-01 04:00:00  115     5.4    0      8.1     250.0   69.0   \n",
       "27  울릉도 2023-02-01 04:00:00  115     5.4    0      8.1     250.0   69.0   \n",
       "28  울릉도 2023-02-01 04:00:00  115     5.4    0      8.1     250.0   69.0   \n",
       "\n",
       "    현지기압(hPa)  해면기압(hPa)  ...  시정(10m)  지면온도(°C)  PM10  PM2.5     O3    NO2  \\\n",
       "24      984.5     1011.4  ...   2495.0       1.4  49.0   24.0  0.043  0.009   \n",
       "25      984.5     1011.4  ...   2495.0       1.4  50.0   25.0  0.062  0.005   \n",
       "26      984.5     1011.4  ...   2495.0       1.4  38.0   25.0  0.001  0.058   \n",
       "27      984.5     1011.4  ...   2495.0       1.4  30.0   10.0  0.049  0.007   \n",
       "28      984.5     1011.4  ...   2495.0       1.4  44.0   25.0  0.040  0.007   \n",
       "\n",
       "     CO    SO2  월  전날기온  \n",
       "24  0.4  0.002  2   5.5  \n",
       "25  0.2  0.002  2   5.5  \n",
       "26  1.4  0.004  2   5.5  \n",
       "27  0.4  0.002  2   5.5  \n",
       "28  0.6  0.003  2   5.5  \n",
       "\n",
       "[5 rows x 25 columns]"
      ]
     },
     "execution_count": 28,
     "metadata": {},
     "output_type": "execute_result"
    }
   ],
   "source": []
  },
  {
   "cell_type": "code",
   "execution_count": null,
   "id": "8ce39ea8",
   "metadata": {},
   "outputs": [],
   "source": []
  }
 ],
 "metadata": {
  "kernelspec": {
   "display_name": "Python 3 (ipykernel)",
   "language": "python",
   "name": "python3"
  },
  "language_info": {
   "codemirror_mode": {
    "name": "ipython",
    "version": 3
   },
   "file_extension": ".py",
   "mimetype": "text/x-python",
   "name": "python",
   "nbconvert_exporter": "python",
   "pygments_lexer": "ipython3",
   "version": "3.8.7"
  }
 },
 "nbformat": 4,
 "nbformat_minor": 5
}
